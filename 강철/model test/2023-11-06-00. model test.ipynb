{
 "cells": [
  {
   "cell_type": "raw",
   "id": "8ec3fcb9-d86d-41af-b782-4d8ed7f80e3c",
   "metadata": {
    "id": "8ec3fcb9-d86d-41af-b782-4d8ed7f80e3c"
   },
   "source": [
    "---\n",
    "title : \"00. model test\"\n",
    "author : \"gc\"\n",
    "date : \"11/06/23\"\n",
    "categories : [gc, model test]\n",
    "---"
   ]
  },
  {
   "cell_type": "markdown",
   "id": "87872099-c87c-4dd0-a7eb-67410e19d3be",
   "metadata": {
    "id": "87872099-c87c-4dd0-a7eb-67410e19d3be"
   },
   "source": [
    "# 해야할 것"
   ]
  },
  {
   "cell_type": "markdown",
   "id": "a2964acf-081c-41e4-b1ee-5dc76c0e8a27",
   "metadata": {
    "id": "a2964acf-081c-41e4-b1ee-5dc76c0e8a27"
   },
   "source": [
    "`1` BERTopic model을 불러와서 학습"
   ]
  },
  {
   "cell_type": "markdown",
   "id": "85b021c3-c5af-4262-957b-b2cff58a404e",
   "metadata": {
    "id": "85b021c3-c5af-4262-957b-b2cff58a404e"
   },
   "source": [
    "`2` 모델 학습 후 각 기사 데이터의 토픽 추론(`BertTopic`)"
   ]
  },
  {
   "cell_type": "markdown",
   "id": "5fcaeb76-b43e-4fdc-9196-ea0090fdf2b2",
   "metadata": {
    "id": "5fcaeb76-b43e-4fdc-9196-ea0090fdf2b2"
   },
   "source": [
    "`3` 추론한 토픽 컬럼을 생성"
   ]
  },
  {
   "cell_type": "markdown",
   "id": "225e48e2-a566-4972-a5e6-55bfc97ad737",
   "metadata": {},
   "source": [
    "`4` 사용자가 언어를 선택하면 그 언어에 맞게끔 데이터가 바뀌는 함수 작성"
   ]
  },
  {
   "cell_type": "markdown",
   "id": "47e6dec9-b6a1-41b6-a002-f3461fbf8811",
   "metadata": {
    "tags": []
   },
   "source": [
    "`5` 기사의 핵심어 산출을 위한 `KeyBERT` model load"
   ]
  },
  {
   "cell_type": "markdown",
   "id": "145fedd4-398c-4c57-b675-cb3bf1c2dd33",
   "metadata": {},
   "source": [
    "`6` 사용자가 해당 기사의 제목을 선택하면 요약문(`KoBART`)과 원문을 함께 보이게 하기 위해서 `데이터 프레임`을 `return` 하는 함수 작성"
   ]
  },
  {
   "cell_type": "markdown",
   "id": "7a99185f-2f8d-45fb-9c78-553c623b3b88",
   "metadata": {
    "id": "7a99185f-2f8d-45fb-9c78-553c623b3b88"
   },
   "source": [
    "`7` 그 후 사용자가 토픽, 날짜, 지역을 선택하면 해당 지역의 기사를 위험도(`일단 내가 임의로 설정`)순으로 기사가 보이게끔"
   ]
  },
  {
   "cell_type": "markdown",
   "id": "559fda58-3a51-4c22-b099-b79eb3f697f2",
   "metadata": {
    "id": "559fda58-3a51-4c22-b099-b79eb3f697f2",
    "tags": []
   },
   "source": [
    "`8` 그리고 사용자가 어떤 지역의 언어를 선택하면 그 언어로 핵심어, 요약문, 원문을 번역해주는 함수 작성(`mBart-50`)"
   ]
  },
  {
   "cell_type": "markdown",
   "id": "57ff8e77-20b7-4e5d-8e3a-1132fef2243b",
   "metadata": {
    "id": "57ff8e77-20b7-4e5d-8e3a-1132fef2243b"
   },
   "source": [
    "# BERTopic"
   ]
  },
  {
   "cell_type": "markdown",
   "id": "FxSaY7dhADRT",
   "metadata": {
    "id": "FxSaY7dhADRT"
   },
   "source": [
    "`-`  일단 데이터로 모델 학습 후 로컬에서 모델을 불러와야하므로 `코랩 환경`에서 수행"
   ]
  },
  {
   "cell_type": "markdown",
   "id": "fiN4yzIO_5Sj",
   "metadata": {
    "id": "fiN4yzIO_5Sj"
   },
   "source": [
    "## 0. import"
   ]
  },
  {
   "cell_type": "markdown",
   "id": "IvKnlQv0_7Rq",
   "metadata": {
    "id": "IvKnlQv0_7Rq"
   },
   "source": [
    "```python\n",
    "!pip install bertopic\n",
    "!pip install bertopic[visualization]\n",
    "```"
   ]
  },
  {
   "cell_type": "code",
   "execution_count": 6,
   "id": "EMs1OmbbAf3i",
   "metadata": {
    "executionInfo": {
     "elapsed": 25239,
     "status": "ok",
     "timestamp": 1699280487858,
     "user": {
      "displayName": "ccc flkwerkdai",
      "userId": "13507850890638580947"
     },
     "user_tz": -540
    },
    "id": "EMs1OmbbAf3i"
   },
   "outputs": [],
   "source": [
    "from sklearn.feature_extraction.text import CountVectorizer\n",
    "from bertopic import BERTopic\n",
    "import pandas as pd"
   ]
  },
  {
   "cell_type": "markdown",
   "id": "07b4ceb3-6730-414a-85d7-1f10810686a2",
   "metadata": {
    "id": "07b4ceb3-6730-414a-85d7-1f10810686a2"
   },
   "source": [
    "## 1. 데이터 로드"
   ]
  },
  {
   "cell_type": "code",
   "execution_count": 4,
   "id": "q6FtyKwW_d49",
   "metadata": {
    "colab": {
     "base_uri": "https://localhost:8080/"
    },
    "executionInfo": {
     "elapsed": 3555,
     "status": "ok",
     "timestamp": 1699280443809,
     "user": {
      "displayName": "ccc flkwerkdai",
      "userId": "13507850890638580947"
     },
     "user_tz": -540
    },
    "id": "q6FtyKwW_d49",
    "outputId": "847a7f36-50cf-4bcc-ad45-fea3804f38e2"
   },
   "outputs": [
    {
     "name": "stdout",
     "output_type": "stream",
     "text": [
      "Drive already mounted at /content/drive; to attempt to forcibly remount, call drive.mount(\"/content/drive\", force_remount=True).\n"
     ]
    }
   ],
   "source": [
    "from google.colab import drive\n",
    "drive.mount('/content/drive')"
   ]
  },
  {
   "cell_type": "code",
   "execution_count": 5,
   "id": "7wAzf2M2_n5k",
   "metadata": {
    "colab": {
     "base_uri": "https://localhost:8080/"
    },
    "executionInfo": {
     "elapsed": 454,
     "status": "ok",
     "timestamp": 1699280446266,
     "user": {
      "displayName": "ccc flkwerkdai",
      "userId": "13507850890638580947"
     },
     "user_tz": -540
    },
    "id": "7wAzf2M2_n5k",
    "outputId": "029c4be9-6676-4f54-a2ee-110fe54b1bfa"
   },
   "outputs": [
    {
     "name": "stdout",
     "output_type": "stream",
     "text": [
      "/content/drive/MyDrive/Colab Notebooks/뉴스빅데이터해커톤/test\n"
     ]
    }
   ],
   "source": [
    "cd /content/drive/MyDrive/Colab Notebooks/뉴스빅데이터해커톤/test"
   ]
  },
  {
   "cell_type": "markdown",
   "id": "467861b2-c76c-46f5-a65c-5fe8d0bc2084",
   "metadata": {
    "id": "467861b2-c76c-46f5-a65c-5fe8d0bc2084"
   },
   "source": [
    "`-` 일단 test case 이므로 100개 데이터만 가지고 수행하자"
   ]
  },
  {
   "cell_type": "code",
   "execution_count": 41,
   "id": "a5dda8fa-5b25-426f-82e6-f27390db8bf5",
   "metadata": {
    "executionInfo": {
     "elapsed": 9591,
     "status": "ok",
     "timestamp": 1699281427461,
     "user": {
      "displayName": "ccc flkwerkdai",
      "userId": "13507850890638580947"
     },
     "user_tz": -540
    },
    "id": "a5dda8fa-5b25-426f-82e6-f27390db8bf5",
    "tags": []
   },
   "outputs": [],
   "source": [
    "df = pd.read_excel(\"raw data.xlsx\").sample(n = 100)"
   ]
  },
  {
   "cell_type": "code",
   "execution_count": 42,
   "id": "73c36347-4306-4a41-b6c1-432269dc085b",
   "metadata": {
    "colab": {
     "base_uri": "https://localhost:8080/"
    },
    "executionInfo": {
     "elapsed": 3,
     "status": "ok",
     "timestamp": 1699281429334,
     "user": {
      "displayName": "ccc flkwerkdai",
      "userId": "13507850890638580947"
     },
     "user_tz": -540
    },
    "id": "73c36347-4306-4a41-b6c1-432269dc085b",
    "outputId": "8200740f-a41c-4a11-e149-9a11754ec90d",
    "tags": []
   },
   "outputs": [
    {
     "name": "stdout",
     "output_type": "stream",
     "text": [
      "<class 'pandas.core.frame.DataFrame'>\n",
      "Int64Index: 100 entries, 17014 to 7534\n",
      "Data columns (total 19 columns):\n",
      " #   Column             Non-Null Count  Dtype  \n",
      "---  ------             --------------  -----  \n",
      " 0   뉴스 식별자             100 non-null    float64\n",
      " 1   일자                 100 non-null    int64  \n",
      " 2   언론사                100 non-null    object \n",
      " 3   기고자                98 non-null     object \n",
      " 4   제목                 100 non-null    object \n",
      " 5   통합 분류1             100 non-null    object \n",
      " 6   통합 분류2             90 non-null     object \n",
      " 7   통합 분류3             77 non-null     object \n",
      " 8   사건/사고 분류1          100 non-null    object \n",
      " 9   사건/사고 분류2          29 non-null     object \n",
      " 10  사건/사고 분류3          10 non-null     object \n",
      " 11  인물                 67 non-null     object \n",
      " 12  위치                 94 non-null     object \n",
      " 13  기관                 100 non-null    object \n",
      " 14  키워드                100 non-null    object \n",
      " 15  특성추출(가중치순 상위 50개)  100 non-null    object \n",
      " 16  본문                 100 non-null    object \n",
      " 17  URL                100 non-null    object \n",
      " 18  분석제외 여부            8 non-null      object \n",
      "dtypes: float64(1), int64(1), object(17)\n",
      "memory usage: 15.6+ KB\n"
     ]
    }
   ],
   "source": [
    "df.info()"
   ]
  },
  {
   "cell_type": "markdown",
   "id": "b4a6a05a-cc1e-4a06-b1f8-4b339edbb90b",
   "metadata": {
    "id": "b4a6a05a-cc1e-4a06-b1f8-4b339edbb90b"
   },
   "source": [
    "`-` 쓸데없는 컬럼 삭제"
   ]
  },
  {
   "cell_type": "code",
   "execution_count": 43,
   "id": "f3f4ab70-230b-438d-9a7b-6ab1e66d8c23",
   "metadata": {
    "executionInfo": {
     "elapsed": 2,
     "status": "ok",
     "timestamp": 1699281431150,
     "user": {
      "displayName": "ccc flkwerkdai",
      "userId": "13507850890638580947"
     },
     "user_tz": -540
    },
    "id": "f3f4ab70-230b-438d-9a7b-6ab1e66d8c23",
    "tags": []
   },
   "outputs": [],
   "source": [
    "d_col = [\"언론사\", \"기고자\", \"통합 분류1\", \"통합 분류2\", \"통합 분류3\",\n",
    "         \"사건/사고 분류1\", \"사건/사고 분류2\", \"사건/사고 분류3\",\n",
    "         \"인물\", \"위치\", \"기관\", \"키워드\",\"특성추출(가중치순 상위 50개)\", \"분석제외 여부\"]\n",
    "\n",
    "df.drop(d_col, axis = 1, inplace =True)"
   ]
  },
  {
   "cell_type": "code",
   "execution_count": 44,
   "id": "a4b08dd0-5e64-4568-9681-e777cae59a8a",
   "metadata": {
    "colab": {
     "base_uri": "https://localhost:8080/"
    },
    "executionInfo": {
     "elapsed": 2,
     "status": "ok",
     "timestamp": 1699281431856,
     "user": {
      "displayName": "ccc flkwerkdai",
      "userId": "13507850890638580947"
     },
     "user_tz": -540
    },
    "id": "a4b08dd0-5e64-4568-9681-e777cae59a8a",
    "outputId": "0c0ad911-7768-4a37-e895-90ae242cc373",
    "tags": []
   },
   "outputs": [
    {
     "name": "stdout",
     "output_type": "stream",
     "text": [
      "<class 'pandas.core.frame.DataFrame'>\n",
      "Int64Index: 100 entries, 17014 to 7534\n",
      "Data columns (total 5 columns):\n",
      " #   Column  Non-Null Count  Dtype  \n",
      "---  ------  --------------  -----  \n",
      " 0   뉴스 식별자  100 non-null    float64\n",
      " 1   일자      100 non-null    int64  \n",
      " 2   제목      100 non-null    object \n",
      " 3   본문      100 non-null    object \n",
      " 4   URL     100 non-null    object \n",
      "dtypes: float64(1), int64(1), object(3)\n",
      "memory usage: 4.7+ KB\n"
     ]
    }
   ],
   "source": [
    "df.info()"
   ]
  },
  {
   "cell_type": "markdown",
   "id": "1a2bd7b0-02dc-42fd-aef1-813306c18388",
   "metadata": {
    "id": "1a2bd7b0-02dc-42fd-aef1-813306c18388"
   },
   "source": [
    "`-` 일자를 `날짜 데이터 ` 형식으로 변경"
   ]
  },
  {
   "cell_type": "code",
   "execution_count": 45,
   "id": "54d2cbf5-a520-4fc5-93f5-8f519e5f178c",
   "metadata": {
    "executionInfo": {
     "elapsed": 3,
     "status": "ok",
     "timestamp": 1699281433861,
     "user": {
      "displayName": "ccc flkwerkdai",
      "userId": "13507850890638580947"
     },
     "user_tz": -540
    },
    "id": "54d2cbf5-a520-4fc5-93f5-8f519e5f178c",
    "tags": []
   },
   "outputs": [],
   "source": [
    "df.일자 = [str(i)[0:4] + \"-\" + str(i)[4:6] + \"-\" + str(i)[6:] for i in df.일자]\n",
    "df.일자 = pd.to_datetime(df.일자)"
   ]
  },
  {
   "cell_type": "code",
   "execution_count": 46,
   "id": "43c86ca1-0563-4109-abd4-92d5452aeaff",
   "metadata": {
    "colab": {
     "base_uri": "https://localhost:8080/"
    },
    "executionInfo": {
     "elapsed": 2,
     "status": "ok",
     "timestamp": 1699281433861,
     "user": {
      "displayName": "ccc flkwerkdai",
      "userId": "13507850890638580947"
     },
     "user_tz": -540
    },
    "id": "43c86ca1-0563-4109-abd4-92d5452aeaff",
    "outputId": "1dba3d9b-0841-4543-b486-62feeae652a5",
    "tags": []
   },
   "outputs": [
    {
     "name": "stdout",
     "output_type": "stream",
     "text": [
      "<class 'pandas.core.frame.DataFrame'>\n",
      "Int64Index: 100 entries, 17014 to 7534\n",
      "Data columns (total 5 columns):\n",
      " #   Column  Non-Null Count  Dtype         \n",
      "---  ------  --------------  -----         \n",
      " 0   뉴스 식별자  100 non-null    float64       \n",
      " 1   일자      100 non-null    datetime64[ns]\n",
      " 2   제목      100 non-null    object        \n",
      " 3   본문      100 non-null    object        \n",
      " 4   URL     100 non-null    object        \n",
      "dtypes: datetime64[ns](1), float64(1), object(3)\n",
      "memory usage: 4.7+ KB\n"
     ]
    }
   ],
   "source": [
    "df.info()"
   ]
  },
  {
   "cell_type": "code",
   "execution_count": 47,
   "id": "d18f8ac1-ec9e-4b73-881c-73a37e09bfb2",
   "metadata": {
    "colab": {
     "base_uri": "https://localhost:8080/",
     "height": 293
    },
    "executionInfo": {
     "elapsed": 639,
     "status": "ok",
     "timestamp": 1699281435140,
     "user": {
      "displayName": "ccc flkwerkdai",
      "userId": "13507850890638580947"
     },
     "user_tz": -540
    },
    "id": "d18f8ac1-ec9e-4b73-881c-73a37e09bfb2",
    "outputId": "b7b65c95-9cee-40ca-b1b1-62e15cfe7261",
    "tags": []
   },
   "outputs": [
    {
     "data": {
      "text/html": [
       "\n",
       "  <div id=\"df-944034e0-6e9d-4844-bd22-86f9501b599a\" class=\"colab-df-container\">\n",
       "    <div>\n",
       "<style scoped>\n",
       "    .dataframe tbody tr th:only-of-type {\n",
       "        vertical-align: middle;\n",
       "    }\n",
       "\n",
       "    .dataframe tbody tr th {\n",
       "        vertical-align: top;\n",
       "    }\n",
       "\n",
       "    .dataframe thead th {\n",
       "        text-align: right;\n",
       "    }\n",
       "</style>\n",
       "<table border=\"1\" class=\"dataframe\">\n",
       "  <thead>\n",
       "    <tr style=\"text-align: right;\">\n",
       "      <th></th>\n",
       "      <th>뉴스 식별자</th>\n",
       "      <th>일자</th>\n",
       "      <th>제목</th>\n",
       "      <th>본문</th>\n",
       "      <th>URL</th>\n",
       "    </tr>\n",
       "  </thead>\n",
       "  <tbody>\n",
       "    <tr>\n",
       "      <th>17014</th>\n",
       "      <td>8.100101e+06</td>\n",
       "      <td>2023-09-05</td>\n",
       "      <td>전라북도 “댐 방류 피해 지원 지역 확대 건의”</td>\n",
       "      <td>[KBS 전주]\\n전라북도가 홍수 때 댐 방류로 피해가 나면 하류 지역까지 지원을 ...</td>\n",
       "      <td>https://news.kbs.co.kr/news/view.do?ncd=776628...</td>\n",
       "    </tr>\n",
       "    <tr>\n",
       "      <th>7259</th>\n",
       "      <td>8.100401e+06</td>\n",
       "      <td>2023-10-14</td>\n",
       "      <td>격화하는 충돌...언론인 인명 피해 속출</td>\n",
       "      <td>[앵커]\\n이스라엘과 하마스와의 충돌이 격화하면서 현장을 취재하는 언론인들의 인명 ...</td>\n",
       "      <td>https://www.ytn.co.kr/_ln/0104_202310142106034159</td>\n",
       "    </tr>\n",
       "    <tr>\n",
       "      <th>486</th>\n",
       "      <td>1.100101e+06</td>\n",
       "      <td>2023-11-04</td>\n",
       "      <td>하마스 “이스라엘의 학교 겨냥 공격으로 20명 사망”</td>\n",
       "      <td>팔레스타인 가자지구의 학교를 겨냥한 이스라엘군의 공습으로 20명이 사망했다고 팔레스...</td>\n",
       "      <td>https://www.khan.co.kr/world/world-general/art...</td>\n",
       "    </tr>\n",
       "    <tr>\n",
       "      <th>7814</th>\n",
       "      <td>2.100701e+06</td>\n",
       "      <td>2023-10-12</td>\n",
       "      <td>이스라엘-팔레스타인 교전에 사망자 2500명 대다수가 민간인</td>\n",
       "      <td>[헤럴드경제=박자연 기자]이스라엘과 팔레스타인 무장 정파 하마스 교전이 엿새째 격화...</td>\n",
       "      <td>http://biz.heraldcorp.com/view.php?ud=20231012...</td>\n",
       "    </tr>\n",
       "    <tr>\n",
       "      <th>6690</th>\n",
       "      <td>1.101101e+06</td>\n",
       "      <td>2023-10-16</td>\n",
       "      <td>이스라엘 북부도 '제2의 전선' 긴장 고조... 국경 마을 28곳에 대피령</td>\n",
       "      <td>이스라엘 중서부에 위치한 가자지구에서 이스라엘군(IDF)이 조만간 지상 작전을 개시...</td>\n",
       "      <td>https://www.hankookilbo.com/News/Read/A2023101...</td>\n",
       "    </tr>\n",
       "  </tbody>\n",
       "</table>\n",
       "</div>\n",
       "    <div class=\"colab-df-buttons\">\n",
       "\n",
       "  <div class=\"colab-df-container\">\n",
       "    <button class=\"colab-df-convert\" onclick=\"convertToInteractive('df-944034e0-6e9d-4844-bd22-86f9501b599a')\"\n",
       "            title=\"Convert this dataframe to an interactive table.\"\n",
       "            style=\"display:none;\">\n",
       "\n",
       "  <svg xmlns=\"http://www.w3.org/2000/svg\" height=\"24px\" viewBox=\"0 -960 960 960\">\n",
       "    <path d=\"M120-120v-720h720v720H120Zm60-500h600v-160H180v160Zm220 220h160v-160H400v160Zm0 220h160v-160H400v160ZM180-400h160v-160H180v160Zm440 0h160v-160H620v160ZM180-180h160v-160H180v160Zm440 0h160v-160H620v160Z\"/>\n",
       "  </svg>\n",
       "    </button>\n",
       "\n",
       "  <style>\n",
       "    .colab-df-container {\n",
       "      display:flex;\n",
       "      gap: 12px;\n",
       "    }\n",
       "\n",
       "    .colab-df-convert {\n",
       "      background-color: #E8F0FE;\n",
       "      border: none;\n",
       "      border-radius: 50%;\n",
       "      cursor: pointer;\n",
       "      display: none;\n",
       "      fill: #1967D2;\n",
       "      height: 32px;\n",
       "      padding: 0 0 0 0;\n",
       "      width: 32px;\n",
       "    }\n",
       "\n",
       "    .colab-df-convert:hover {\n",
       "      background-color: #E2EBFA;\n",
       "      box-shadow: 0px 1px 2px rgba(60, 64, 67, 0.3), 0px 1px 3px 1px rgba(60, 64, 67, 0.15);\n",
       "      fill: #174EA6;\n",
       "    }\n",
       "\n",
       "    .colab-df-buttons div {\n",
       "      margin-bottom: 4px;\n",
       "    }\n",
       "\n",
       "    [theme=dark] .colab-df-convert {\n",
       "      background-color: #3B4455;\n",
       "      fill: #D2E3FC;\n",
       "    }\n",
       "\n",
       "    [theme=dark] .colab-df-convert:hover {\n",
       "      background-color: #434B5C;\n",
       "      box-shadow: 0px 1px 3px 1px rgba(0, 0, 0, 0.15);\n",
       "      filter: drop-shadow(0px 1px 2px rgba(0, 0, 0, 0.3));\n",
       "      fill: #FFFFFF;\n",
       "    }\n",
       "  </style>\n",
       "\n",
       "    <script>\n",
       "      const buttonEl =\n",
       "        document.querySelector('#df-944034e0-6e9d-4844-bd22-86f9501b599a button.colab-df-convert');\n",
       "      buttonEl.style.display =\n",
       "        google.colab.kernel.accessAllowed ? 'block' : 'none';\n",
       "\n",
       "      async function convertToInteractive(key) {\n",
       "        const element = document.querySelector('#df-944034e0-6e9d-4844-bd22-86f9501b599a');\n",
       "        const dataTable =\n",
       "          await google.colab.kernel.invokeFunction('convertToInteractive',\n",
       "                                                    [key], {});\n",
       "        if (!dataTable) return;\n",
       "\n",
       "        const docLinkHtml = 'Like what you see? Visit the ' +\n",
       "          '<a target=\"_blank\" href=https://colab.research.google.com/notebooks/data_table.ipynb>data table notebook</a>'\n",
       "          + ' to learn more about interactive tables.';\n",
       "        element.innerHTML = '';\n",
       "        dataTable['output_type'] = 'display_data';\n",
       "        await google.colab.output.renderOutput(dataTable, element);\n",
       "        const docLink = document.createElement('div');\n",
       "        docLink.innerHTML = docLinkHtml;\n",
       "        element.appendChild(docLink);\n",
       "      }\n",
       "    </script>\n",
       "  </div>\n",
       "\n",
       "\n",
       "<div id=\"df-ed5a0d04-e2ec-40a6-abba-122eb6fb80c3\">\n",
       "  <button class=\"colab-df-quickchart\" onclick=\"quickchart('df-ed5a0d04-e2ec-40a6-abba-122eb6fb80c3')\"\n",
       "            title=\"Suggest charts.\"\n",
       "            style=\"display:none;\">\n",
       "\n",
       "<svg xmlns=\"http://www.w3.org/2000/svg\" height=\"24px\"viewBox=\"0 0 24 24\"\n",
       "     width=\"24px\">\n",
       "    <g>\n",
       "        <path d=\"M19 3H5c-1.1 0-2 .9-2 2v14c0 1.1.9 2 2 2h14c1.1 0 2-.9 2-2V5c0-1.1-.9-2-2-2zM9 17H7v-7h2v7zm4 0h-2V7h2v10zm4 0h-2v-4h2v4z\"/>\n",
       "    </g>\n",
       "</svg>\n",
       "  </button>\n",
       "\n",
       "<style>\n",
       "  .colab-df-quickchart {\n",
       "      --bg-color: #E8F0FE;\n",
       "      --fill-color: #1967D2;\n",
       "      --hover-bg-color: #E2EBFA;\n",
       "      --hover-fill-color: #174EA6;\n",
       "      --disabled-fill-color: #AAA;\n",
       "      --disabled-bg-color: #DDD;\n",
       "  }\n",
       "\n",
       "  [theme=dark] .colab-df-quickchart {\n",
       "      --bg-color: #3B4455;\n",
       "      --fill-color: #D2E3FC;\n",
       "      --hover-bg-color: #434B5C;\n",
       "      --hover-fill-color: #FFFFFF;\n",
       "      --disabled-bg-color: #3B4455;\n",
       "      --disabled-fill-color: #666;\n",
       "  }\n",
       "\n",
       "  .colab-df-quickchart {\n",
       "    background-color: var(--bg-color);\n",
       "    border: none;\n",
       "    border-radius: 50%;\n",
       "    cursor: pointer;\n",
       "    display: none;\n",
       "    fill: var(--fill-color);\n",
       "    height: 32px;\n",
       "    padding: 0;\n",
       "    width: 32px;\n",
       "  }\n",
       "\n",
       "  .colab-df-quickchart:hover {\n",
       "    background-color: var(--hover-bg-color);\n",
       "    box-shadow: 0 1px 2px rgba(60, 64, 67, 0.3), 0 1px 3px 1px rgba(60, 64, 67, 0.15);\n",
       "    fill: var(--button-hover-fill-color);\n",
       "  }\n",
       "\n",
       "  .colab-df-quickchart-complete:disabled,\n",
       "  .colab-df-quickchart-complete:disabled:hover {\n",
       "    background-color: var(--disabled-bg-color);\n",
       "    fill: var(--disabled-fill-color);\n",
       "    box-shadow: none;\n",
       "  }\n",
       "\n",
       "  .colab-df-spinner {\n",
       "    border: 2px solid var(--fill-color);\n",
       "    border-color: transparent;\n",
       "    border-bottom-color: var(--fill-color);\n",
       "    animation:\n",
       "      spin 1s steps(1) infinite;\n",
       "  }\n",
       "\n",
       "  @keyframes spin {\n",
       "    0% {\n",
       "      border-color: transparent;\n",
       "      border-bottom-color: var(--fill-color);\n",
       "      border-left-color: var(--fill-color);\n",
       "    }\n",
       "    20% {\n",
       "      border-color: transparent;\n",
       "      border-left-color: var(--fill-color);\n",
       "      border-top-color: var(--fill-color);\n",
       "    }\n",
       "    30% {\n",
       "      border-color: transparent;\n",
       "      border-left-color: var(--fill-color);\n",
       "      border-top-color: var(--fill-color);\n",
       "      border-right-color: var(--fill-color);\n",
       "    }\n",
       "    40% {\n",
       "      border-color: transparent;\n",
       "      border-right-color: var(--fill-color);\n",
       "      border-top-color: var(--fill-color);\n",
       "    }\n",
       "    60% {\n",
       "      border-color: transparent;\n",
       "      border-right-color: var(--fill-color);\n",
       "    }\n",
       "    80% {\n",
       "      border-color: transparent;\n",
       "      border-right-color: var(--fill-color);\n",
       "      border-bottom-color: var(--fill-color);\n",
       "    }\n",
       "    90% {\n",
       "      border-color: transparent;\n",
       "      border-bottom-color: var(--fill-color);\n",
       "    }\n",
       "  }\n",
       "</style>\n",
       "\n",
       "  <script>\n",
       "    async function quickchart(key) {\n",
       "      const quickchartButtonEl =\n",
       "        document.querySelector('#' + key + ' button');\n",
       "      quickchartButtonEl.disabled = true;  // To prevent multiple clicks.\n",
       "      quickchartButtonEl.classList.add('colab-df-spinner');\n",
       "      try {\n",
       "        const charts = await google.colab.kernel.invokeFunction(\n",
       "            'suggestCharts', [key], {});\n",
       "      } catch (error) {\n",
       "        console.error('Error during call to suggestCharts:', error);\n",
       "      }\n",
       "      quickchartButtonEl.classList.remove('colab-df-spinner');\n",
       "      quickchartButtonEl.classList.add('colab-df-quickchart-complete');\n",
       "    }\n",
       "    (() => {\n",
       "      let quickchartButtonEl =\n",
       "        document.querySelector('#df-ed5a0d04-e2ec-40a6-abba-122eb6fb80c3 button');\n",
       "      quickchartButtonEl.style.display =\n",
       "        google.colab.kernel.accessAllowed ? 'block' : 'none';\n",
       "    })();\n",
       "  </script>\n",
       "</div>\n",
       "    </div>\n",
       "  </div>\n"
      ],
      "text/plain": [
       "             뉴스 식별자         일자                                         제목  \\\n",
       "17014  8.100101e+06 2023-09-05                 전라북도 “댐 방류 피해 지원 지역 확대 건의”   \n",
       "7259   8.100401e+06 2023-10-14                     격화하는 충돌...언론인 인명 피해 속출   \n",
       "486    1.100101e+06 2023-11-04              하마스 “이스라엘의 학교 겨냥 공격으로 20명 사망”   \n",
       "7814   2.100701e+06 2023-10-12          이스라엘-팔레스타인 교전에 사망자 2500명 대다수가 민간인   \n",
       "6690   1.101101e+06 2023-10-16  이스라엘 북부도 '제2의 전선' 긴장 고조... 국경 마을 28곳에 대피령   \n",
       "\n",
       "                                                      본문  \\\n",
       "17014  [KBS 전주]\\n전라북도가 홍수 때 댐 방류로 피해가 나면 하류 지역까지 지원을 ...   \n",
       "7259   [앵커]\\n이스라엘과 하마스와의 충돌이 격화하면서 현장을 취재하는 언론인들의 인명 ...   \n",
       "486    팔레스타인 가자지구의 학교를 겨냥한 이스라엘군의 공습으로 20명이 사망했다고 팔레스...   \n",
       "7814   [헤럴드경제=박자연 기자]이스라엘과 팔레스타인 무장 정파 하마스 교전이 엿새째 격화...   \n",
       "6690   이스라엘 중서부에 위치한 가자지구에서 이스라엘군(IDF)이 조만간 지상 작전을 개시...   \n",
       "\n",
       "                                                     URL  \n",
       "17014  https://news.kbs.co.kr/news/view.do?ncd=776628...  \n",
       "7259   https://www.ytn.co.kr/_ln/0104_202310142106034159  \n",
       "486    https://www.khan.co.kr/world/world-general/art...  \n",
       "7814   http://biz.heraldcorp.com/view.php?ud=20231012...  \n",
       "6690   https://www.hankookilbo.com/News/Read/A2023101...  "
      ]
     },
     "execution_count": 47,
     "metadata": {},
     "output_type": "execute_result"
    }
   ],
   "source": [
    "df.head()"
   ]
  },
  {
   "cell_type": "markdown",
   "id": "d92ed6c1-3fec-497d-8025-76617cecb194",
   "metadata": {
    "id": "d92ed6c1-3fec-497d-8025-76617cecb194"
   },
   "source": [
    "## 2. 전처리 (생략)"
   ]
  },
  {
   "cell_type": "markdown",
   "id": "8cb0b08b-395e-4c3f-bc10-8abc77caf03c",
   "metadata": {
    "id": "8cb0b08b-395e-4c3f-bc10-8abc77caf03c"
   },
   "source": [
    "`-` 아직 형태소 분석기 뭐 쓸지 안정했으니 생략하자."
   ]
  },
  {
   "cell_type": "markdown",
   "id": "j-R9UugMEQxw",
   "metadata": {
    "id": "j-R9UugMEQxw"
   },
   "source": [
    "`-` [전처리+모델링 참고링크](https://gangcheol.github.io/mysite2/posts/DX/2023-10-26-02.%20BERTopic.html#mecab-%EC%84%A4%EC%B9%98)"
   ]
  },
  {
   "cell_type": "markdown",
   "id": "2_MHDtdOA4c6",
   "metadata": {
    "id": "2_MHDtdOA4c6"
   },
   "source": [
    "## 3.  모델링"
   ]
  },
  {
   "cell_type": "code",
   "execution_count": 49,
   "id": "u4gACHVEBAzD",
   "metadata": {
    "executionInfo": {
     "elapsed": 465,
     "status": "ok",
     "timestamp": 1699281469808,
     "user": {
      "displayName": "ccc flkwerkdai",
      "userId": "13507850890638580947"
     },
     "user_tz": -540
    },
    "id": "u4gACHVEBAzD"
   },
   "outputs": [],
   "source": [
    "model = BERTopic(embedding_model=\"sentence-transformers/xlm-r-100langs-bert-base-nli-stsb-mean-tokens\",\n",
    "                                   nr_topics=10, ## 토픽 개수\n",
    "                                  top_n_words=10, ## 추출할 토픽 당 상위 단어 수\n",
    "                                  calculate_probabilities=True) ## Documnent 별로 특정 Topic에 속하는 확류를 계산"
   ]
  },
  {
   "cell_type": "code",
   "execution_count": 50,
   "id": "Yzsb2AkSBhtw",
   "metadata": {
    "executionInfo": {
     "elapsed": 8153,
     "status": "ok",
     "timestamp": 1699281480448,
     "user": {
      "displayName": "ccc flkwerkdai",
      "userId": "13507850890638580947"
     },
     "user_tz": -540
    },
    "id": "Yzsb2AkSBhtw"
   },
   "outputs": [],
   "source": [
    "topics, probs = model.fit_transform(df[\"본문\"])"
   ]
  },
  {
   "cell_type": "markdown",
   "id": "P0TesVCfB0HE",
   "metadata": {
    "id": "P0TesVCfB0HE"
   },
   "source": [
    "## 4. 결과 확인"
   ]
  },
  {
   "cell_type": "code",
   "execution_count": 51,
   "id": "NV0Lw171B2or",
   "metadata": {
    "colab": {
     "base_uri": "https://localhost:8080/",
     "height": 293
    },
    "executionInfo": {
     "elapsed": 543,
     "status": "ok",
     "timestamp": 1699281487146,
     "user": {
      "displayName": "ccc flkwerkdai",
      "userId": "13507850890638580947"
     },
     "user_tz": -540
    },
    "id": "NV0Lw171B2or",
    "outputId": "23448ea9-2aae-4666-c168-a96fce7fed07"
   },
   "outputs": [
    {
     "data": {
      "text/html": [
       "\n",
       "  <div id=\"df-f089d928-c2c5-4612-a069-c4cefc630283\" class=\"colab-df-container\">\n",
       "    <div>\n",
       "<style scoped>\n",
       "    .dataframe tbody tr th:only-of-type {\n",
       "        vertical-align: middle;\n",
       "    }\n",
       "\n",
       "    .dataframe tbody tr th {\n",
       "        vertical-align: top;\n",
       "    }\n",
       "\n",
       "    .dataframe thead th {\n",
       "        text-align: right;\n",
       "    }\n",
       "</style>\n",
       "<table border=\"1\" class=\"dataframe\">\n",
       "  <thead>\n",
       "    <tr style=\"text-align: right;\">\n",
       "      <th></th>\n",
       "      <th>Topic</th>\n",
       "      <th>Count</th>\n",
       "      <th>Name</th>\n",
       "      <th>Representation</th>\n",
       "      <th>Representative_Docs</th>\n",
       "    </tr>\n",
       "  </thead>\n",
       "  <tbody>\n",
       "    <tr>\n",
       "      <th>0</th>\n",
       "      <td>-1</td>\n",
       "      <td>16</td>\n",
       "      <td>-1_앵커_바랍니다_재난대응_eu</td>\n",
       "      <td>[앵커, 바랍니다, 재난대응, eu, 보다, 모로코, 후쿠시마, 기자, 고위대표는,...</td>\n",
       "      <td>[호세프 보렐 유럽연합(EU) 외교안보 고위대표는 가자지구로 훨씬 더 많은 구호품 ...</td>\n",
       "    </tr>\n",
       "    <tr>\n",
       "      <th>1</th>\n",
       "      <td>0</td>\n",
       "      <td>12</td>\n",
       "      <td>0_지진이_규모_알레르기_아침</td>\n",
       "      <td>[지진이, 규모, 알레르기, 아침, 것이, 지난, 오후, 기자, 생육, 소중히]</td>\n",
       "      <td>[【평창】평창군은 18일 군 청사에서 지진에 대한 경각심을 고취하고 재난 대응능력을...</td>\n",
       "    </tr>\n",
       "    <tr>\n",
       "      <th>2</th>\n",
       "      <td>1</td>\n",
       "      <td>39</td>\n",
       "      <td>1_이스라엘_팔레스타인_현지시간_하마스</td>\n",
       "      <td>[이스라엘, 팔레스타인, 현지시간, 하마스, 가자지구, 이스라엘과, 이스라엘이, 하...</td>\n",
       "      <td>[이츠하크 헤르초그 이스라엘 대통령이 “가자지구에서 민간인 사상자를 줄이는 데 집중...</td>\n",
       "    </tr>\n",
       "    <tr>\n",
       "      <th>3</th>\n",
       "      <td>2</td>\n",
       "      <td>18</td>\n",
       "      <td>2_더불어민주당_이재명_단식_대표가</td>\n",
       "      <td>[더불어민주당, 이재명, 단식, 대표가, 대표의, 국회, 가운데, 이날, 문재인, ...</td>\n",
       "      <td>[이재명 더불어민주당 대표의 단식이 11일째를 지나는 가운데 이 대표의 단식이 언제...</td>\n",
       "    </tr>\n",
       "    <tr>\n",
       "      <th>4</th>\n",
       "      <td>3</td>\n",
       "      <td>15</td>\n",
       "      <td>3_원주_고용노동부_흉기난동_있다</td>\n",
       "      <td>[원주, 고용노동부, 흉기난동, 있다, 이후, 오전, 통해, 위한, 대표의, 따르면]</td>\n",
       "      <td>[2024학년도 대학수학능력시험(수능)이 실시되는 다음 달 16일 관공서와 기업 등...</td>\n",
       "    </tr>\n",
       "  </tbody>\n",
       "</table>\n",
       "</div>\n",
       "    <div class=\"colab-df-buttons\">\n",
       "\n",
       "  <div class=\"colab-df-container\">\n",
       "    <button class=\"colab-df-convert\" onclick=\"convertToInteractive('df-f089d928-c2c5-4612-a069-c4cefc630283')\"\n",
       "            title=\"Convert this dataframe to an interactive table.\"\n",
       "            style=\"display:none;\">\n",
       "\n",
       "  <svg xmlns=\"http://www.w3.org/2000/svg\" height=\"24px\" viewBox=\"0 -960 960 960\">\n",
       "    <path d=\"M120-120v-720h720v720H120Zm60-500h600v-160H180v160Zm220 220h160v-160H400v160Zm0 220h160v-160H400v160ZM180-400h160v-160H180v160Zm440 0h160v-160H620v160ZM180-180h160v-160H180v160Zm440 0h160v-160H620v160Z\"/>\n",
       "  </svg>\n",
       "    </button>\n",
       "\n",
       "  <style>\n",
       "    .colab-df-container {\n",
       "      display:flex;\n",
       "      gap: 12px;\n",
       "    }\n",
       "\n",
       "    .colab-df-convert {\n",
       "      background-color: #E8F0FE;\n",
       "      border: none;\n",
       "      border-radius: 50%;\n",
       "      cursor: pointer;\n",
       "      display: none;\n",
       "      fill: #1967D2;\n",
       "      height: 32px;\n",
       "      padding: 0 0 0 0;\n",
       "      width: 32px;\n",
       "    }\n",
       "\n",
       "    .colab-df-convert:hover {\n",
       "      background-color: #E2EBFA;\n",
       "      box-shadow: 0px 1px 2px rgba(60, 64, 67, 0.3), 0px 1px 3px 1px rgba(60, 64, 67, 0.15);\n",
       "      fill: #174EA6;\n",
       "    }\n",
       "\n",
       "    .colab-df-buttons div {\n",
       "      margin-bottom: 4px;\n",
       "    }\n",
       "\n",
       "    [theme=dark] .colab-df-convert {\n",
       "      background-color: #3B4455;\n",
       "      fill: #D2E3FC;\n",
       "    }\n",
       "\n",
       "    [theme=dark] .colab-df-convert:hover {\n",
       "      background-color: #434B5C;\n",
       "      box-shadow: 0px 1px 3px 1px rgba(0, 0, 0, 0.15);\n",
       "      filter: drop-shadow(0px 1px 2px rgba(0, 0, 0, 0.3));\n",
       "      fill: #FFFFFF;\n",
       "    }\n",
       "  </style>\n",
       "\n",
       "    <script>\n",
       "      const buttonEl =\n",
       "        document.querySelector('#df-f089d928-c2c5-4612-a069-c4cefc630283 button.colab-df-convert');\n",
       "      buttonEl.style.display =\n",
       "        google.colab.kernel.accessAllowed ? 'block' : 'none';\n",
       "\n",
       "      async function convertToInteractive(key) {\n",
       "        const element = document.querySelector('#df-f089d928-c2c5-4612-a069-c4cefc630283');\n",
       "        const dataTable =\n",
       "          await google.colab.kernel.invokeFunction('convertToInteractive',\n",
       "                                                    [key], {});\n",
       "        if (!dataTable) return;\n",
       "\n",
       "        const docLinkHtml = 'Like what you see? Visit the ' +\n",
       "          '<a target=\"_blank\" href=https://colab.research.google.com/notebooks/data_table.ipynb>data table notebook</a>'\n",
       "          + ' to learn more about interactive tables.';\n",
       "        element.innerHTML = '';\n",
       "        dataTable['output_type'] = 'display_data';\n",
       "        await google.colab.output.renderOutput(dataTable, element);\n",
       "        const docLink = document.createElement('div');\n",
       "        docLink.innerHTML = docLinkHtml;\n",
       "        element.appendChild(docLink);\n",
       "      }\n",
       "    </script>\n",
       "  </div>\n",
       "\n",
       "\n",
       "<div id=\"df-d9b7364b-521c-4e1c-9422-f354e3aaccbb\">\n",
       "  <button class=\"colab-df-quickchart\" onclick=\"quickchart('df-d9b7364b-521c-4e1c-9422-f354e3aaccbb')\"\n",
       "            title=\"Suggest charts.\"\n",
       "            style=\"display:none;\">\n",
       "\n",
       "<svg xmlns=\"http://www.w3.org/2000/svg\" height=\"24px\"viewBox=\"0 0 24 24\"\n",
       "     width=\"24px\">\n",
       "    <g>\n",
       "        <path d=\"M19 3H5c-1.1 0-2 .9-2 2v14c0 1.1.9 2 2 2h14c1.1 0 2-.9 2-2V5c0-1.1-.9-2-2-2zM9 17H7v-7h2v7zm4 0h-2V7h2v10zm4 0h-2v-4h2v4z\"/>\n",
       "    </g>\n",
       "</svg>\n",
       "  </button>\n",
       "\n",
       "<style>\n",
       "  .colab-df-quickchart {\n",
       "      --bg-color: #E8F0FE;\n",
       "      --fill-color: #1967D2;\n",
       "      --hover-bg-color: #E2EBFA;\n",
       "      --hover-fill-color: #174EA6;\n",
       "      --disabled-fill-color: #AAA;\n",
       "      --disabled-bg-color: #DDD;\n",
       "  }\n",
       "\n",
       "  [theme=dark] .colab-df-quickchart {\n",
       "      --bg-color: #3B4455;\n",
       "      --fill-color: #D2E3FC;\n",
       "      --hover-bg-color: #434B5C;\n",
       "      --hover-fill-color: #FFFFFF;\n",
       "      --disabled-bg-color: #3B4455;\n",
       "      --disabled-fill-color: #666;\n",
       "  }\n",
       "\n",
       "  .colab-df-quickchart {\n",
       "    background-color: var(--bg-color);\n",
       "    border: none;\n",
       "    border-radius: 50%;\n",
       "    cursor: pointer;\n",
       "    display: none;\n",
       "    fill: var(--fill-color);\n",
       "    height: 32px;\n",
       "    padding: 0;\n",
       "    width: 32px;\n",
       "  }\n",
       "\n",
       "  .colab-df-quickchart:hover {\n",
       "    background-color: var(--hover-bg-color);\n",
       "    box-shadow: 0 1px 2px rgba(60, 64, 67, 0.3), 0 1px 3px 1px rgba(60, 64, 67, 0.15);\n",
       "    fill: var(--button-hover-fill-color);\n",
       "  }\n",
       "\n",
       "  .colab-df-quickchart-complete:disabled,\n",
       "  .colab-df-quickchart-complete:disabled:hover {\n",
       "    background-color: var(--disabled-bg-color);\n",
       "    fill: var(--disabled-fill-color);\n",
       "    box-shadow: none;\n",
       "  }\n",
       "\n",
       "  .colab-df-spinner {\n",
       "    border: 2px solid var(--fill-color);\n",
       "    border-color: transparent;\n",
       "    border-bottom-color: var(--fill-color);\n",
       "    animation:\n",
       "      spin 1s steps(1) infinite;\n",
       "  }\n",
       "\n",
       "  @keyframes spin {\n",
       "    0% {\n",
       "      border-color: transparent;\n",
       "      border-bottom-color: var(--fill-color);\n",
       "      border-left-color: var(--fill-color);\n",
       "    }\n",
       "    20% {\n",
       "      border-color: transparent;\n",
       "      border-left-color: var(--fill-color);\n",
       "      border-top-color: var(--fill-color);\n",
       "    }\n",
       "    30% {\n",
       "      border-color: transparent;\n",
       "      border-left-color: var(--fill-color);\n",
       "      border-top-color: var(--fill-color);\n",
       "      border-right-color: var(--fill-color);\n",
       "    }\n",
       "    40% {\n",
       "      border-color: transparent;\n",
       "      border-right-color: var(--fill-color);\n",
       "      border-top-color: var(--fill-color);\n",
       "    }\n",
       "    60% {\n",
       "      border-color: transparent;\n",
       "      border-right-color: var(--fill-color);\n",
       "    }\n",
       "    80% {\n",
       "      border-color: transparent;\n",
       "      border-right-color: var(--fill-color);\n",
       "      border-bottom-color: var(--fill-color);\n",
       "    }\n",
       "    90% {\n",
       "      border-color: transparent;\n",
       "      border-bottom-color: var(--fill-color);\n",
       "    }\n",
       "  }\n",
       "</style>\n",
       "\n",
       "  <script>\n",
       "    async function quickchart(key) {\n",
       "      const quickchartButtonEl =\n",
       "        document.querySelector('#' + key + ' button');\n",
       "      quickchartButtonEl.disabled = true;  // To prevent multiple clicks.\n",
       "      quickchartButtonEl.classList.add('colab-df-spinner');\n",
       "      try {\n",
       "        const charts = await google.colab.kernel.invokeFunction(\n",
       "            'suggestCharts', [key], {});\n",
       "      } catch (error) {\n",
       "        console.error('Error during call to suggestCharts:', error);\n",
       "      }\n",
       "      quickchartButtonEl.classList.remove('colab-df-spinner');\n",
       "      quickchartButtonEl.classList.add('colab-df-quickchart-complete');\n",
       "    }\n",
       "    (() => {\n",
       "      let quickchartButtonEl =\n",
       "        document.querySelector('#df-d9b7364b-521c-4e1c-9422-f354e3aaccbb button');\n",
       "      quickchartButtonEl.style.display =\n",
       "        google.colab.kernel.accessAllowed ? 'block' : 'none';\n",
       "    })();\n",
       "  </script>\n",
       "</div>\n",
       "    </div>\n",
       "  </div>\n"
      ],
      "text/plain": [
       "   Topic  Count                   Name  \\\n",
       "0     -1     16     -1_앵커_바랍니다_재난대응_eu   \n",
       "1      0     12       0_지진이_규모_알레르기_아침   \n",
       "2      1     39  1_이스라엘_팔레스타인_현지시간_하마스   \n",
       "3      2     18    2_더불어민주당_이재명_단식_대표가   \n",
       "4      3     15     3_원주_고용노동부_흉기난동_있다   \n",
       "\n",
       "                                      Representation  \\\n",
       "0  [앵커, 바랍니다, 재난대응, eu, 보다, 모로코, 후쿠시마, 기자, 고위대표는,...   \n",
       "1       [지진이, 규모, 알레르기, 아침, 것이, 지난, 오후, 기자, 생육, 소중히]   \n",
       "2  [이스라엘, 팔레스타인, 현지시간, 하마스, 가자지구, 이스라엘과, 이스라엘이, 하...   \n",
       "3  [더불어민주당, 이재명, 단식, 대표가, 대표의, 국회, 가운데, 이날, 문재인, ...   \n",
       "4    [원주, 고용노동부, 흉기난동, 있다, 이후, 오전, 통해, 위한, 대표의, 따르면]   \n",
       "\n",
       "                                 Representative_Docs  \n",
       "0  [호세프 보렐 유럽연합(EU) 외교안보 고위대표는 가자지구로 훨씬 더 많은 구호품 ...  \n",
       "1  [【평창】평창군은 18일 군 청사에서 지진에 대한 경각심을 고취하고 재난 대응능력을...  \n",
       "2  [이츠하크 헤르초그 이스라엘 대통령이 “가자지구에서 민간인 사상자를 줄이는 데 집중...  \n",
       "3  [이재명 더불어민주당 대표의 단식이 11일째를 지나는 가운데 이 대표의 단식이 언제...  \n",
       "4  [2024학년도 대학수학능력시험(수능)이 실시되는 다음 달 16일 관공서와 기업 등...  "
      ]
     },
     "execution_count": 51,
     "metadata": {},
     "output_type": "execute_result"
    }
   ],
   "source": [
    "model.get_topic_info()"
   ]
  },
  {
   "cell_type": "markdown",
   "id": "5PZM0MB3CYQx",
   "metadata": {
    "id": "5PZM0MB3CYQx"
   },
   "source": [
    "## 4.  기존 데이터의 토픽 정보 추가"
   ]
  },
  {
   "cell_type": "code",
   "execution_count": 70,
   "id": "4L13qBKXEjfp",
   "metadata": {
    "executionInfo": {
     "elapsed": 494,
     "status": "ok",
     "timestamp": 1699282581078,
     "user": {
      "displayName": "ccc flkwerkdai",
      "userId": "13507850890638580947"
     },
     "user_tz": -540
    },
    "id": "4L13qBKXEjfp"
   },
   "outputs": [],
   "source": [
    "df[\"topic\"] = topics"
   ]
  },
  {
   "cell_type": "markdown",
   "id": "8WYCLAShInhz",
   "metadata": {
    "id": "8WYCLAShInhz"
   },
   "source": [
    "## 6. 결과 데이터 저장"
   ]
  },
  {
   "cell_type": "code",
   "execution_count": 73,
   "id": "gtrsDPoOIqUA",
   "metadata": {
    "executionInfo": {
     "elapsed": 619,
     "status": "ok",
     "timestamp": 1699282661075,
     "user": {
      "displayName": "ccc flkwerkdai",
      "userId": "13507850890638580947"
     },
     "user_tz": -540
    },
    "id": "gtrsDPoOIqUA"
   },
   "outputs": [],
   "source": [
    "df.to_excel(\"rowdata(size=100).xlsx\")"
   ]
  },
  {
   "cell_type": "markdown",
   "id": "284e6547-a2c3-4e2b-ae20-f45e3ef296af",
   "metadata": {},
   "source": [
    "***"
   ]
  },
  {
   "cell_type": "markdown",
   "id": "a272dfa1-16b4-493a-ac7d-ac771b9b561e",
   "metadata": {},
   "source": [
    "# KeyBERT 핵심어 추출(`다시 로컬로 넘어옴`)"
   ]
  },
  {
   "cell_type": "code",
   "execution_count": 15,
   "id": "163f2ecd-6005-4c5d-8d28-28744b10ddcd",
   "metadata": {
    "tags": []
   },
   "outputs": [],
   "source": [
    "import pandas as pd"
   ]
  },
  {
   "cell_type": "code",
   "execution_count": 17,
   "id": "f7f46683-ed68-41e6-aba9-ef0068164ad6",
   "metadata": {
    "tags": []
   },
   "outputs": [],
   "source": [
    "df = pd.read_excel(\"rowdata(size=100).xlsx\")"
   ]
  },
  {
   "cell_type": "code",
   "execution_count": 19,
   "id": "1f59927f-f7b7-44e6-afe8-71ee5c72058d",
   "metadata": {
    "tags": []
   },
   "outputs": [
    {
     "data": {
      "text/html": [
       "<div>\n",
       "<style scoped>\n",
       "    .dataframe tbody tr th:only-of-type {\n",
       "        vertical-align: middle;\n",
       "    }\n",
       "\n",
       "    .dataframe tbody tr th {\n",
       "        vertical-align: top;\n",
       "    }\n",
       "\n",
       "    .dataframe thead th {\n",
       "        text-align: right;\n",
       "    }\n",
       "</style>\n",
       "<table border=\"1\" class=\"dataframe\">\n",
       "  <thead>\n",
       "    <tr style=\"text-align: right;\">\n",
       "      <th></th>\n",
       "      <th>Unnamed: 0</th>\n",
       "      <th>뉴스 식별자</th>\n",
       "      <th>일자</th>\n",
       "      <th>제목</th>\n",
       "      <th>본문</th>\n",
       "      <th>URL</th>\n",
       "      <th>topic</th>\n",
       "    </tr>\n",
       "  </thead>\n",
       "  <tbody>\n",
       "    <tr>\n",
       "      <th>0</th>\n",
       "      <td>17014</td>\n",
       "      <td>8.100101e+06</td>\n",
       "      <td>2023-09-05</td>\n",
       "      <td>전라북도 “댐 방류 피해 지원 지역 확대 건의”</td>\n",
       "      <td>[KBS 전주]\\n전라북도가 홍수 때 댐 방류로 피해가 나면 하류 지역까지 지원을 ...</td>\n",
       "      <td>https://news.kbs.co.kr/news/view.do?ncd=776628...</td>\n",
       "      <td>0</td>\n",
       "    </tr>\n",
       "    <tr>\n",
       "      <th>1</th>\n",
       "      <td>7259</td>\n",
       "      <td>8.100401e+06</td>\n",
       "      <td>2023-10-14</td>\n",
       "      <td>격화하는 충돌...언론인 인명 피해 속출</td>\n",
       "      <td>[앵커]\\n이스라엘과 하마스와의 충돌이 격화하면서 현장을 취재하는 언론인들의 인명 ...</td>\n",
       "      <td>https://www.ytn.co.kr/_ln/0104_202310142106034159</td>\n",
       "      <td>1</td>\n",
       "    </tr>\n",
       "    <tr>\n",
       "      <th>2</th>\n",
       "      <td>486</td>\n",
       "      <td>1.100101e+06</td>\n",
       "      <td>2023-11-04</td>\n",
       "      <td>하마스 “이스라엘의 학교 겨냥 공격으로 20명 사망”</td>\n",
       "      <td>팔레스타인 가자지구의 학교를 겨냥한 이스라엘군의 공습으로 20명이 사망했다고 팔레스...</td>\n",
       "      <td>https://www.khan.co.kr/world/world-general/art...</td>\n",
       "      <td>1</td>\n",
       "    </tr>\n",
       "    <tr>\n",
       "      <th>3</th>\n",
       "      <td>7814</td>\n",
       "      <td>2.100701e+06</td>\n",
       "      <td>2023-10-12</td>\n",
       "      <td>이스라엘-팔레스타인 교전에 사망자 2500명 대다수가 민간인</td>\n",
       "      <td>[헤럴드경제=박자연 기자]이스라엘과 팔레스타인 무장 정파 하마스 교전이 엿새째 격화...</td>\n",
       "      <td>http://biz.heraldcorp.com/view.php?ud=20231012...</td>\n",
       "      <td>1</td>\n",
       "    </tr>\n",
       "    <tr>\n",
       "      <th>4</th>\n",
       "      <td>6690</td>\n",
       "      <td>1.101101e+06</td>\n",
       "      <td>2023-10-16</td>\n",
       "      <td>이스라엘 북부도 '제2의 전선' 긴장 고조... 국경 마을 28곳에 대피령</td>\n",
       "      <td>이스라엘 중서부에 위치한 가자지구에서 이스라엘군(IDF)이 조만간 지상 작전을 개시...</td>\n",
       "      <td>https://www.hankookilbo.com/News/Read/A2023101...</td>\n",
       "      <td>1</td>\n",
       "    </tr>\n",
       "  </tbody>\n",
       "</table>\n",
       "</div>"
      ],
      "text/plain": [
       "   Unnamed: 0        뉴스 식별자         일자  \\\n",
       "0       17014  8.100101e+06 2023-09-05   \n",
       "1        7259  8.100401e+06 2023-10-14   \n",
       "2         486  1.100101e+06 2023-11-04   \n",
       "3        7814  2.100701e+06 2023-10-12   \n",
       "4        6690  1.101101e+06 2023-10-16   \n",
       "\n",
       "                                          제목  \\\n",
       "0                 전라북도 “댐 방류 피해 지원 지역 확대 건의”   \n",
       "1                     격화하는 충돌...언론인 인명 피해 속출   \n",
       "2              하마스 “이스라엘의 학교 겨냥 공격으로 20명 사망”   \n",
       "3          이스라엘-팔레스타인 교전에 사망자 2500명 대다수가 민간인   \n",
       "4  이스라엘 북부도 '제2의 전선' 긴장 고조... 국경 마을 28곳에 대피령   \n",
       "\n",
       "                                                  본문  \\\n",
       "0  [KBS 전주]\\n전라북도가 홍수 때 댐 방류로 피해가 나면 하류 지역까지 지원을 ...   \n",
       "1  [앵커]\\n이스라엘과 하마스와의 충돌이 격화하면서 현장을 취재하는 언론인들의 인명 ...   \n",
       "2  팔레스타인 가자지구의 학교를 겨냥한 이스라엘군의 공습으로 20명이 사망했다고 팔레스...   \n",
       "3  [헤럴드경제=박자연 기자]이스라엘과 팔레스타인 무장 정파 하마스 교전이 엿새째 격화...   \n",
       "4  이스라엘 중서부에 위치한 가자지구에서 이스라엘군(IDF)이 조만간 지상 작전을 개시...   \n",
       "\n",
       "                                                 URL  topic  \n",
       "0  https://news.kbs.co.kr/news/view.do?ncd=776628...      0  \n",
       "1  https://www.ytn.co.kr/_ln/0104_202310142106034159      1  \n",
       "2  https://www.khan.co.kr/world/world-general/art...      1  \n",
       "3  http://biz.heraldcorp.com/view.php?ud=20231012...      1  \n",
       "4  https://www.hankookilbo.com/News/Read/A2023101...      1  "
      ]
     },
     "execution_count": 19,
     "metadata": {},
     "output_type": "execute_result"
    }
   ],
   "source": [
    "df.head()"
   ]
  },
  {
   "cell_type": "code",
   "execution_count": 4,
   "id": "52869644-557d-40de-86d7-5feaf5b8ebcc",
   "metadata": {
    "tags": []
   },
   "outputs": [],
   "source": [
    "#pip install keybert"
   ]
  },
  {
   "cell_type": "code",
   "execution_count": 31,
   "id": "3409139c-1c71-415a-8d36-15d8285af24c",
   "metadata": {
    "tags": []
   },
   "outputs": [],
   "source": [
    "from keybert import KeyBERT\n",
    "from transformers import BartForConditionalGeneration"
   ]
  },
  {
   "cell_type": "markdown",
   "id": "aee892db-3295-4ff0-83ce-f7d495f3bd34",
   "metadata": {},
   "source": [
    "`-` pretrained 된 `digit82/kobart-summarization`을 기본 모델로 만들고 Keybert 객체로 만들어준다."
   ]
  },
  {
   "cell_type": "code",
   "execution_count": 32,
   "id": "b20165ea-ebfc-44cb-a8d0-bf910bfed796",
   "metadata": {
    "tags": []
   },
   "outputs": [
    {
     "name": "stderr",
     "output_type": "stream",
     "text": [
      "You passed along `num_labels=3` with an incompatible id to label map: {'0': 'NEGATIVE', '1': 'POSITIVE'}. The number of labels wil be overwritten to 2.\n"
     ]
    }
   ],
   "source": [
    "model = BartForConditionalGeneration.from_pretrained('digit82/kobart-summarization')\n",
    "kw_model = KeyBERT(model)"
   ]
  },
  {
   "cell_type": "markdown",
   "id": "77c8c4e5-27e9-4c4d-98df-b4d5543afb3c",
   "metadata": {},
   "source": [
    "`-` 일단 1개 데이터"
   ]
  },
  {
   "cell_type": "code",
   "execution_count": 223,
   "id": "5d0b0e5b-f8fe-49e1-9383-6e7e780b7da6",
   "metadata": {
    "tags": []
   },
   "outputs": [],
   "source": [
    "text = df[\"본문\"][0]"
   ]
  },
  {
   "cell_type": "code",
   "execution_count": 224,
   "id": "81f08687-2186-4168-93f0-1703a4412f5e",
   "metadata": {
    "tags": []
   },
   "outputs": [
    {
     "data": {
      "text/plain": [
       "[('홍수위로부터', 0.6274),\n",
       " ('홍수', 0.5986),\n",
       " ('환경분쟁조정을', 0.5284),\n",
       " ('피해가', 0.4223),\n",
       " ('계획', 0.384),\n",
       " ('지역까지', 0.3446),\n",
       " ('지원', 0.3175),\n",
       " ('지역', 0.3125),\n",
       " ('지역에만', 0.3111),\n",
       " ('따르면', 0.305),\n",
       " ('전라북도가', 0.3046),\n",
       " ('남원', 0.2877),\n",
       " ('집중호우', 0.2854),\n",
       " ('2천20년', 0.2676),\n",
       " ('하류', 0.2666)]"
      ]
     },
     "execution_count": 224,
     "metadata": {},
     "output_type": "execute_result"
    }
   ],
   "source": [
    "keywords = kw_model.extract_keywords(text, keyphrase_ngram_range=(1, 1), stop_words=None, top_n=15)\n",
    "keywords"
   ]
  },
  {
   "cell_type": "markdown",
   "id": "79de8527-250a-40ec-bc03-b06236529712",
   "metadata": {},
   "source": [
    "`-` 확인했으니 루프로 모든 데이터에 적용한다음에 컬럼 만들어서 붙이자."
   ]
  },
  {
   "cell_type": "code",
   "execution_count": 225,
   "id": "2bd4e5ef-3b3c-45e1-9fe3-5f623716f9c6",
   "metadata": {
    "tags": []
   },
   "outputs": [],
   "source": [
    "keyword_list = []"
   ]
  },
  {
   "cell_type": "code",
   "execution_count": 229,
   "id": "2d374bca-6b65-476f-a7f0-6268caa76685",
   "metadata": {
    "tags": []
   },
   "outputs": [],
   "source": [
    "for i in range(len(df)) :\n",
    "    text = df[\"본문\"][i]\n",
    "    temp = [i[0] for i in keywords]\n",
    "    keyword_list.append(temp)"
   ]
  },
  {
   "cell_type": "markdown",
   "id": "c56257e7-3b3a-442e-82d2-ba92a3228e8a",
   "metadata": {},
   "source": [
    "## 사용자 정의함수 작성"
   ]
  },
  {
   "cell_type": "code",
   "execution_count": 231,
   "id": "4cb9a907-d2b3-4139-bc4e-64dca6c44afd",
   "metadata": {
    "tags": []
   },
   "outputs": [],
   "source": [
    "def keyword_extract(df) :\n",
    "    model = BartForConditionalGeneration.from_pretrained('digit82/kobart-summarization')\n",
    "    kw_model = KeyBERT(model)\n",
    "    keyword_list = []\n",
    "    for i in range(len(df)) :\n",
    "        text = df[\"본문\"][i]\n",
    "        keywords = kw_model.extract_keywords(text, keyphrase_ngram_range=(1, 1), stop_words=None, top_n=15)\n",
    "        temp = [i[0] for i in keywords]\n",
    "        keyword_list.append(temp)\n",
    "    df[\"keyword\"] = keyword_list\n",
    "    df[\"keyword\"] = [\" \".join(i) for i in df[\"keyword\"]]\n",
    "    return df"
   ]
  },
  {
   "cell_type": "code",
   "execution_count": 232,
   "id": "86d097cf-102a-432c-9b31-45691dd58c31",
   "metadata": {
    "tags": []
   },
   "outputs": [
    {
     "name": "stderr",
     "output_type": "stream",
     "text": [
      "You passed along `num_labels=3` with an incompatible id to label map: {'0': 'NEGATIVE', '1': 'POSITIVE'}. The number of labels wil be overwritten to 2.\n"
     ]
    },
    {
     "data": {
      "text/html": [
       "<div>\n",
       "<style scoped>\n",
       "    .dataframe tbody tr th:only-of-type {\n",
       "        vertical-align: middle;\n",
       "    }\n",
       "\n",
       "    .dataframe tbody tr th {\n",
       "        vertical-align: top;\n",
       "    }\n",
       "\n",
       "    .dataframe thead th {\n",
       "        text-align: right;\n",
       "    }\n",
       "</style>\n",
       "<table border=\"1\" class=\"dataframe\">\n",
       "  <thead>\n",
       "    <tr style=\"text-align: right;\">\n",
       "      <th></th>\n",
       "      <th>Unnamed: 0</th>\n",
       "      <th>뉴스 식별자</th>\n",
       "      <th>일자</th>\n",
       "      <th>제목</th>\n",
       "      <th>본문</th>\n",
       "      <th>URL</th>\n",
       "      <th>topic</th>\n",
       "      <th>keyword</th>\n",
       "      <th>summary_text</th>\n",
       "      <th>위험도</th>\n",
       "      <th>city</th>\n",
       "    </tr>\n",
       "  </thead>\n",
       "  <tbody>\n",
       "    <tr>\n",
       "      <th>49</th>\n",
       "      <td>19388</td>\n",
       "      <td>2.100311e+06</td>\n",
       "      <td>2023-08-29</td>\n",
       "      <td>尹 카눈 피해 심각 지자체 3곳 특별재난지역 추가 선포</td>\n",
       "      <td>윤석열 대통령이 제6호 태풍 카눈으로 인해 대규모 피해가 발생한 강원 고성군 경북 ...</td>\n",
       "      <td>http://www.sedaily.com/NewsView/29TLG4GC12</td>\n",
       "      <td>3</td>\n",
       "      <td>홍수위로부터 홍수 환경분쟁조정을 피해가 계획 지역까지 지원 지역 지역에만 따르면 전...</td>\n",
       "      <td>제6호 태풍 카눈으로 인해 대규모 피해가 발생한 강원 고성군 경북 경주시 산내면 경...</td>\n",
       "      <td>12.492217</td>\n",
       "      <td>경상북도</td>\n",
       "    </tr>\n",
       "    <tr>\n",
       "      <th>60</th>\n",
       "      <td>19480</td>\n",
       "      <td>2.100501e+06</td>\n",
       "      <td>2023-08-29</td>\n",
       "      <td>'살인 예고글' 전국서 479건 23명 구속</td>\n",
       "      <td>신림동 흉기난동 이후 229건 검거 \\n \\n 대구국제공항에 대한 '폭탄테러'와 공...</td>\n",
       "      <td>http://www.fnnews.com/news/202308290954412819</td>\n",
       "      <td>3</td>\n",
       "      <td>언론인들의 기자 이스라엘과 카메라 레바논 기자가 사격 하마스와의 폭발음과 피해가 보...</td>\n",
       "      <td>대구국제공항에 대한 '폭탄테러'와 공항 이용객 불특정 다수를 상대로 '흉기난동'이 ...</td>\n",
       "      <td>1.554176</td>\n",
       "      <td>전라북도</td>\n",
       "    </tr>\n",
       "    <tr>\n",
       "      <th>54</th>\n",
       "      <td>19282</td>\n",
       "      <td>2.100851e+06</td>\n",
       "      <td>2023-08-29</td>\n",
       "      <td>10호 태풍 '담레이' 일본 삿포로 해상에서 소멸</td>\n",
       "      <td>제10호 태풍 '담레이' 경로. 담레이는 29일 오후 3시에 소멸했다. [자료=기상...</td>\n",
       "      <td>https://www.ajunews.com/view/20230829171154152</td>\n",
       "      <td>1</td>\n",
       "      <td>팔레스타인 이스라엘군의 20명과 알사프타위 가자지구 하마스 부상자 수십명이 가자지구...</td>\n",
       "      <td>29일 낮 낮 일본 삿포로 인근 해상에서 소멸된 제10호 태풍 '담레이'가 29일 ...</td>\n",
       "      <td>12.258479</td>\n",
       "      <td>대전광역시</td>\n",
       "    </tr>\n",
       "    <tr>\n",
       "      <th>44</th>\n",
       "      <td>19317</td>\n",
       "      <td>7.100501e+06</td>\n",
       "      <td>2023-08-29</td>\n",
       "      <td>한난, '2023년 재난대응 안전한국훈련' 시행</td>\n",
       "      <td>한국지역난방공사는 29일 경기 파주시 지사에서 행정안전부가 주관하는 '2023년 제...</td>\n",
       "      <td>http://www.etnews.com/20230829000284</td>\n",
       "      <td>-1</td>\n",
       "      <td>이스라엘 이스라엘과 팔레스타인 2500명을 사망자가 사망자 하마스 1300명 사망자...</td>\n",
       "      <td>한국지역난방공사는 29일 경기 파주시 지사에서 중앙부처와 지방자치단체, 공공기관, ...</td>\n",
       "      <td>8.469362</td>\n",
       "      <td>세종특별자치시</td>\n",
       "    </tr>\n",
       "    <tr>\n",
       "      <th>9</th>\n",
       "      <td>18922</td>\n",
       "      <td>1.100701e+06</td>\n",
       "      <td>2023-08-30</td>\n",
       "      <td>日 “간토대지진 조선인 학살 사실 파악 기록 없어”</td>\n",
       "      <td>일본 정부가 올해로 100주년을 맞은 간토대지진 당시 군대와 경찰, 민간인으로 이뤄...</td>\n",
       "      <td>http://www.segye.com/content/html/2023/08/30/2...</td>\n",
       "      <td>2</td>\n",
       "      <td>이스라엘 이스라엘이 이스라엘군 레바논과 가자지구에서 국경지대 인접한 지상 작전을 일...</td>\n",
       "      <td>일본 정부가 올해로 100주년을 맞은 간토대지진 당시 군대와 경찰, 민간인으로 이뤄...</td>\n",
       "      <td>2.554163</td>\n",
       "      <td>대구광역시</td>\n",
       "    </tr>\n",
       "  </tbody>\n",
       "</table>\n",
       "</div>"
      ],
      "text/plain": [
       "    Unnamed: 0        뉴스 식별자         일자                              제목  \\\n",
       "49       19388  2.100311e+06 2023-08-29  尹 카눈 피해 심각 지자체 3곳 특별재난지역 추가 선포   \n",
       "60       19480  2.100501e+06 2023-08-29        '살인 예고글' 전국서 479건 23명 구속   \n",
       "54       19282  2.100851e+06 2023-08-29     10호 태풍 '담레이' 일본 삿포로 해상에서 소멸   \n",
       "44       19317  7.100501e+06 2023-08-29      한난, '2023년 재난대응 안전한국훈련' 시행   \n",
       "9        18922  1.100701e+06 2023-08-30    日 “간토대지진 조선인 학살 사실 파악 기록 없어”   \n",
       "\n",
       "                                                   본문  \\\n",
       "49  윤석열 대통령이 제6호 태풍 카눈으로 인해 대규모 피해가 발생한 강원 고성군 경북 ...   \n",
       "60  신림동 흉기난동 이후 229건 검거 \\n \\n 대구국제공항에 대한 '폭탄테러'와 공...   \n",
       "54  제10호 태풍 '담레이' 경로. 담레이는 29일 오후 3시에 소멸했다. [자료=기상...   \n",
       "44  한국지역난방공사는 29일 경기 파주시 지사에서 행정안전부가 주관하는 '2023년 제...   \n",
       "9   일본 정부가 올해로 100주년을 맞은 간토대지진 당시 군대와 경찰, 민간인으로 이뤄...   \n",
       "\n",
       "                                                  URL  topic  \\\n",
       "49         http://www.sedaily.com/NewsView/29TLG4GC12      3   \n",
       "60      http://www.fnnews.com/news/202308290954412819      3   \n",
       "54     https://www.ajunews.com/view/20230829171154152      1   \n",
       "44               http://www.etnews.com/20230829000284     -1   \n",
       "9   http://www.segye.com/content/html/2023/08/30/2...      2   \n",
       "\n",
       "                                              keyword  \\\n",
       "49  홍수위로부터 홍수 환경분쟁조정을 피해가 계획 지역까지 지원 지역 지역에만 따르면 전...   \n",
       "60  언론인들의 기자 이스라엘과 카메라 레바논 기자가 사격 하마스와의 폭발음과 피해가 보...   \n",
       "54  팔레스타인 이스라엘군의 20명과 알사프타위 가자지구 하마스 부상자 수십명이 가자지구...   \n",
       "44  이스라엘 이스라엘과 팔레스타인 2500명을 사망자가 사망자 하마스 1300명 사망자...   \n",
       "9   이스라엘 이스라엘이 이스라엘군 레바논과 가자지구에서 국경지대 인접한 지상 작전을 일...   \n",
       "\n",
       "                                         summary_text        위험도     city  \n",
       "49  제6호 태풍 카눈으로 인해 대규모 피해가 발생한 강원 고성군 경북 경주시 산내면 경...  12.492217     경상북도  \n",
       "60  대구국제공항에 대한 '폭탄테러'와 공항 이용객 불특정 다수를 상대로 '흉기난동'이 ...   1.554176     전라북도  \n",
       "54  29일 낮 낮 일본 삿포로 인근 해상에서 소멸된 제10호 태풍 '담레이'가 29일 ...  12.258479    대전광역시  \n",
       "44  한국지역난방공사는 29일 경기 파주시 지사에서 중앙부처와 지방자치단체, 공공기관, ...   8.469362  세종특별자치시  \n",
       "9   일본 정부가 올해로 100주년을 맞은 간토대지진 당시 군대와 경찰, 민간인으로 이뤄...   2.554163    대구광역시  "
      ]
     },
     "execution_count": 232,
     "metadata": {},
     "output_type": "execute_result"
    }
   ],
   "source": [
    "df = keyword_extract(df)\n",
    "df.head()"
   ]
  },
  {
   "cell_type": "markdown",
   "id": "1ff324ee-831b-47f0-9e60-d27f8be1484b",
   "metadata": {},
   "source": [
    "# KoBART 요약문"
   ]
  },
  {
   "cell_type": "markdown",
   "id": "5a3929be-80f7-4612-af8a-c342a070cb2d",
   "metadata": {},
   "source": [
    "## import"
   ]
  },
  {
   "cell_type": "code",
   "execution_count": 63,
   "id": "67cb5b76-73e2-4179-b441-01e1f3a7e88b",
   "metadata": {
    "tags": []
   },
   "outputs": [],
   "source": [
    "#!pip install transformers\n",
    "#conda install pytorch torchvision torchaudio cpuonly -c pytorch"
   ]
  },
  {
   "cell_type": "code",
   "execution_count": 64,
   "id": "b84b6f45-3581-4c76-9680-fbfa8d424cb3",
   "metadata": {
    "tags": []
   },
   "outputs": [],
   "source": [
    "import torch\n",
    "from transformers import PreTrainedTokenizerFast\n",
    "from transformers import BartForConditionalGeneration"
   ]
  },
  {
   "cell_type": "code",
   "execution_count": 66,
   "id": "912d9314-886c-40f3-b256-b102808b27fd",
   "metadata": {
    "tags": []
   },
   "outputs": [
    {
     "name": "stderr",
     "output_type": "stream",
     "text": [
      "You passed along `num_labels=3` with an incompatible id to label map: {'0': 'NEGATIVE', '1': 'POSITIVE'}. The number of labels wil be overwritten to 2.\n"
     ]
    }
   ],
   "source": [
    "tokenizer = PreTrainedTokenizerFast.from_pretrained('digit82/kobart-summarization')\n",
    "summary_model = BartForConditionalGeneration.from_pretrained('digit82/kobart-summarization')"
   ]
  },
  {
   "cell_type": "markdown",
   "id": "666bd248-4ea8-4653-b4c8-a1ea88eaaaf3",
   "metadata": {},
   "source": [
    "## test"
   ]
  },
  {
   "cell_type": "code",
   "execution_count": 67,
   "id": "aca81e71-3185-43c6-9a45-60f6b182ab71",
   "metadata": {
    "tags": []
   },
   "outputs": [],
   "source": [
    "text = df[\"본문\"][0]"
   ]
  },
  {
   "cell_type": "code",
   "execution_count": 69,
   "id": "a0c523d7-eaf8-4c6e-b10e-23d4d2140e86",
   "metadata": {
    "tags": []
   },
   "outputs": [
    {
     "data": {
      "text/plain": [
       "'[KBS 전주]\\n전라북도가 홍수 때 댐 방류로 피해가 나면 하류 지역까지 지원을 확대하는 방안을 환경부에 건의했습니다.\\n\\n현행법에 따르면 계획 홍수위로부터 5킬로미터 안까지만 지원 범위로 정하고 있어 상류 지역에만 혜택이 적용됩니다.\\n\\n실제 2천20년 집중호우 때 댐 방류로 남원, 임실 등 하류 지역 5곳에 피해가 나 주민들이 환경분쟁조정을 신청했지만,..'"
      ]
     },
     "execution_count": 69,
     "metadata": {},
     "output_type": "execute_result"
    }
   ],
   "source": [
    "text"
   ]
  },
  {
   "cell_type": "code",
   "execution_count": 70,
   "id": "7a6c865c-57fa-48cd-a504-eae669ff6483",
   "metadata": {
    "tags": []
   },
   "outputs": [
    {
     "data": {
      "text/plain": [
       "200"
      ]
     },
     "execution_count": 70,
     "metadata": {},
     "output_type": "execute_result"
    }
   ],
   "source": [
    "len(text)"
   ]
  },
  {
   "cell_type": "markdown",
   "id": "01bbf855-3e8d-47fa-83a4-7e9a4db92267",
   "metadata": {},
   "source": [
    "## 문서 토큰화"
   ]
  },
  {
   "cell_type": "code",
   "execution_count": 72,
   "id": "524a290f-daab-447f-a36e-0da62b86e6c2",
   "metadata": {
    "tags": []
   },
   "outputs": [
    {
     "data": {
      "text/plain": [
       "'전라전라북도가 홍수 때 댐 방류로 피해가 나면 하류 지역까지 지원을 확대하는 방안을 환경부에 건의하였다.'"
      ]
     },
     "execution_count": 72,
     "metadata": {},
     "output_type": "execute_result"
    }
   ],
   "source": [
    "raw_input_ids = tokenizer.encode(text)\n",
    "input_ids = [tokenizer.bos_token_id] + raw_input_ids + [tokenizer.eos_token_id]\n",
    "\n",
    "summary_ids = model.generate(torch.tensor([input_ids]),  num_beams=4,  max_length=512,  eos_token_id=1)\n",
    "tokenizer.decode(summary_ids.squeeze().tolist(), skip_special_tokens=True)"
   ]
  },
  {
   "cell_type": "markdown",
   "id": "7f947c80-0d1a-48c8-9139-1016f3084470",
   "metadata": {},
   "source": [
    "## 문서 요약 생성"
   ]
  },
  {
   "cell_type": "code",
   "execution_count": 73,
   "id": "29db4825-5fa3-4f9a-b63d-047869f316dc",
   "metadata": {
    "tags": []
   },
   "outputs": [],
   "source": [
    "summary_ids = model.generate(torch.tensor([input_ids]),  num_beams=4,  max_length=512,  eos_token_id=1)\n",
    "s_text =  tokenizer.decode(summary_ids.squeeze().tolist(), skip_special_tokens=True)"
   ]
  },
  {
   "cell_type": "code",
   "execution_count": 74,
   "id": "0f538b55-2194-4b93-b938-1c605612e734",
   "metadata": {
    "tags": []
   },
   "outputs": [
    {
     "data": {
      "text/plain": [
       "'전라전라북도가 홍수 때 댐 방류로 피해가 나면 하류 지역까지 지원을 확대하는 방안을 환경부에 건의하였다.'"
      ]
     },
     "execution_count": 74,
     "metadata": {},
     "output_type": "execute_result"
    }
   ],
   "source": [
    "s_text"
   ]
  },
  {
   "cell_type": "markdown",
   "id": "5d7072cb-0b98-4692-9f44-3e23ea2a391d",
   "metadata": {},
   "source": [
    "## 사용자 정의함수 작성"
   ]
  },
  {
   "cell_type": "markdown",
   "id": "6d3b239c-e72d-4039-8eae-695de6d63d64",
   "metadata": {},
   "source": [
    "`-` 데이터 100개인데도 시간 좀 많이 걸림"
   ]
  },
  {
   "cell_type": "code",
   "execution_count": 78,
   "id": "5a779713-3acf-4eb0-98dd-fed5987ef8e0",
   "metadata": {
    "tags": []
   },
   "outputs": [],
   "source": [
    "def text_Summarization(df) :\n",
    "    tokenizer = PreTrainedTokenizerFast.from_pretrained('digit82/kobart-summarization')\n",
    "    summary_model = BartForConditionalGeneration.from_pretrained('digit82/kobart-summarization')\n",
    "    summary_text = []\n",
    "    for i in range(len(df)) :\n",
    "        text = df[\"본문\"][i]\n",
    "        raw_input_ids = tokenizer.encode(text)\n",
    "        input_ids = [tokenizer.bos_token_id] + raw_input_ids + [tokenizer.eos_token_id]\n",
    "\n",
    "        summary_ids = model.generate(torch.tensor([input_ids]),  num_beams=4,  max_length=512,  eos_token_id=1)\n",
    "        s_text =  tokenizer.decode(summary_ids.squeeze().tolist(), skip_special_tokens=True)\n",
    "        summary_text.append(s_text)\n",
    "    df[\"summary_text\"] = summary_text\n",
    "    return df"
   ]
  },
  {
   "cell_type": "code",
   "execution_count": 79,
   "id": "e61dce97-b3af-461d-a7b9-885eb005e5be",
   "metadata": {
    "tags": []
   },
   "outputs": [
    {
     "name": "stderr",
     "output_type": "stream",
     "text": [
      "You passed along `num_labels=3` with an incompatible id to label map: {'0': 'NEGATIVE', '1': 'POSITIVE'}. The number of labels wil be overwritten to 2.\n"
     ]
    }
   ],
   "source": [
    "df = text_Summarization(df)"
   ]
  },
  {
   "cell_type": "markdown",
   "id": "64431224-9f06-4bf7-ab19-d8852e38d928",
   "metadata": {},
   "source": [
    "```python\n",
    "summary_text_ids = model.generate(\n",
    "    input_ids=torch.tensor([input_ids]),\n",
    "    length_penalty=2.0, # 길이에 대한 penalty. 1보다 작은 경우 더 짧은 문장을 생성하도록 유도하며, 1보다 클 경우 길이가 더 긴 문장을 유도\n",
    "    max_length=128,     # 요약문의 최대 길이 설정\n",
    "    min_length=32,      # 요약문의 최소 길이 설정\n",
    "    num_beams=4,        # 문장 생성시 다음 단어를 탐색하는 영역의 개수\n",
    "    length_panelty = 2.0 # 길이에 대한 panelty, 1보다 작은 경우 더 짧은 문장을 생성\n",
    ")\n",
    "```"
   ]
  },
  {
   "cell_type": "markdown",
   "id": "09e48145-a992-4af8-85f5-db679f674dea",
   "metadata": {
    "tags": []
   },
   "source": [
    "## 비교"
   ]
  },
  {
   "cell_type": "code",
   "execution_count": 82,
   "id": "6339003e-1dd8-4631-8fa6-8b74f3338046",
   "metadata": {
    "tags": []
   },
   "outputs": [
    {
     "name": "stdout",
     "output_type": "stream",
     "text": [
      "[KBS 전주]\n",
      "전라북도가 홍수 때 댐 방류로 피해가 나면 하류 지역까지 지원을 확대하는 방안을 환경부에 건의했습니다.\n",
      "\n",
      "현행법에 따르면 계획 홍수위로부터 5킬로미터 안까지만 지원 범위로 정하고 있어 상류 지역에만 혜택이 적용됩니다.\n",
      "\n",
      "실제 2천20년 집중호우 때 댐 방류로 남원, 임실 등 하류 지역 5곳에 피해가 나 주민들이 환경분쟁조정을 신청했지만,..\n"
     ]
    }
   ],
   "source": [
    "print(df[\"본문\"][0])"
   ]
  },
  {
   "cell_type": "code",
   "execution_count": 84,
   "id": "3eda1de7-4d89-4e27-b0b8-ef3f6f1ad812",
   "metadata": {
    "tags": []
   },
   "outputs": [
    {
     "name": "stdout",
     "output_type": "stream",
     "text": [
      "전라전라북도가 홍수 때 댐 방류로 피해가 나면 하류 지역까지 지원을 확대하는 방안을 환경부에 건의하였다.\n"
     ]
    }
   ],
   "source": [
    "print(df[\"summary_text\"][0])"
   ]
  },
  {
   "cell_type": "markdown",
   "id": "c26afd4c-3921-4ae0-96f8-130956b77c9c",
   "metadata": {},
   "source": [
    "***"
   ]
  },
  {
   "cell_type": "markdown",
   "id": "ec64628a-96c6-417d-9f4f-75770dc733aa",
   "metadata": {},
   "source": [
    "# mBart-50"
   ]
  },
  {
   "cell_type": "markdown",
   "id": "26210f86-ccf3-43b8-9c3f-cedc6117cf9c",
   "metadata": {},
   "source": [
    "`-` 자 이제 피날레"
   ]
  },
  {
   "cell_type": "markdown",
   "id": "ab9b0229-b727-4a59-b4ef-6fd96e52c92a",
   "metadata": {},
   "source": [
    "`-` 사용자가 어떤 언어를 선택하면 해당 언어로 바꿔주기"
   ]
  },
  {
   "cell_type": "markdown",
   "id": "8d0e711b-a7b0-4fba-bce4-06af07c52bfe",
   "metadata": {},
   "source": [
    "`-` [참고링크](https://huggingface.co/facebook/mbart-large-50-many-to-many-mmt)"
   ]
  },
  {
   "cell_type": "markdown",
   "id": "73d1dea7-43bf-4c88-afab-1bf302fabd4b",
   "metadata": {},
   "source": [
    "## import"
   ]
  },
  {
   "cell_type": "code",
   "execution_count": 93,
   "id": "d61a2507-b372-438b-8257-34153dd0395b",
   "metadata": {
    "tags": []
   },
   "outputs": [],
   "source": [
    "from transformers import MBartForConditionalGeneration, MBart50TokenizerFast"
   ]
  },
  {
   "cell_type": "markdown",
   "id": "dc7ca732-c1bd-46a8-b225-3aa0f29b1435",
   "metadata": {},
   "source": [
    "## model load"
   ]
  },
  {
   "cell_type": "markdown",
   "id": "1551d172-734c-4bca-9f08-ed63597eaa5d",
   "metadata": {},
   "source": [
    "`-` load 하는데 시간 좀 많이 걸림"
   ]
  },
  {
   "cell_type": "code",
   "execution_count": 94,
   "id": "f8957b9e-efe6-43ed-9761-08a4634fa7c3",
   "metadata": {
    "tags": []
   },
   "outputs": [
    {
     "data": {
      "application/vnd.jupyter.widget-view+json": {
       "model_id": "73edb10d5eec4ef3a185cf86e5056c04",
       "version_major": 2,
       "version_minor": 0
      },
      "text/plain": [
       "Downloading (…)lve/main/config.json:   0%|          | 0.00/1.43k [00:00<?, ?B/s]"
      ]
     },
     "metadata": {},
     "output_type": "display_data"
    },
    {
     "data": {
      "application/vnd.jupyter.widget-view+json": {
       "model_id": "2240d58e28c64914926ee623e75b6fed",
       "version_major": 2,
       "version_minor": 0
      },
      "text/plain": [
       "Downloading model.safetensors:   0%|          | 0.00/2.44G [00:00<?, ?B/s]"
      ]
     },
     "metadata": {},
     "output_type": "display_data"
    },
    {
     "data": {
      "application/vnd.jupyter.widget-view+json": {
       "model_id": "4c5f4be1e03048279e8f36bf7e4e04ab",
       "version_major": 2,
       "version_minor": 0
      },
      "text/plain": [
       "Downloading (…)neration_config.json:   0%|          | 0.00/261 [00:00<?, ?B/s]"
      ]
     },
     "metadata": {},
     "output_type": "display_data"
    },
    {
     "data": {
      "application/vnd.jupyter.widget-view+json": {
       "model_id": "d2326fc976c149bf91c3252e48d95727",
       "version_major": 2,
       "version_minor": 0
      },
      "text/plain": [
       "Downloading (…)okenizer_config.json:   0%|          | 0.00/529 [00:00<?, ?B/s]"
      ]
     },
     "metadata": {},
     "output_type": "display_data"
    },
    {
     "data": {
      "application/vnd.jupyter.widget-view+json": {
       "model_id": "4599d324fc574a799f562e4e8c94ef91",
       "version_major": 2,
       "version_minor": 0
      },
      "text/plain": [
       "Downloading (…)tencepiece.bpe.model:   0%|          | 0.00/5.07M [00:00<?, ?B/s]"
      ]
     },
     "metadata": {},
     "output_type": "display_data"
    },
    {
     "data": {
      "application/vnd.jupyter.widget-view+json": {
       "model_id": "5a3bb4b265544550845f8a9941d5a584",
       "version_major": 2,
       "version_minor": 0
      },
      "text/plain": [
       "Downloading (…)cial_tokens_map.json:   0%|          | 0.00/649 [00:00<?, ?B/s]"
      ]
     },
     "metadata": {},
     "output_type": "display_data"
    }
   ],
   "source": [
    "model = MBartForConditionalGeneration.from_pretrained(\"facebook/mbart-large-50-many-to-many-mmt\")\n",
    "tokenizer = MBart50TokenizerFast.from_pretrained(\"facebook/mbart-large-50-many-to-many-mmt\")"
   ]
  },
  {
   "cell_type": "markdown",
   "id": "d568ebda-767e-4d43-b012-81b42a9694f4",
   "metadata": {},
   "source": [
    "## 언어dic 작성"
   ]
  },
  {
   "cell_type": "code",
   "execution_count": 103,
   "id": "a2b0b5c5-c824-4adf-9d2f-078cb4126123",
   "metadata": {
    "tags": []
   },
   "outputs": [],
   "source": [
    "lang_dict = {\"Arabic\" : \"ar_AR\", \"Czech\": \"cs_CZ\", \"German\" : \"de_DE\", \"English\" : \"en_XX\", \n",
    "             \"Spanish\" :  \"es_XX\", \"Estonian\" : \"et_EE\", \"Finnish\" : \"fi_FI\", \"French\" : 'fr_XX', \n",
    "            'Gujarati': 'gu_IN', 'Hindi' : 'hi_IN', 'Italian' : 'it_IT', 'Japanese' : 'ja_XX', \n",
    "            'Kazakh' : 'kk_KZ', 'Korean' : 'ko_KR', 'Lithuanian' : 'lt_LT', 'Latvian' : 'lv_LV', \n",
    "            'Burmese' : 'my_MM', 'Nepali' : 'ne_NP', 'Dutch' : 'nl_XX', \n",
    "            'Romanian' : 'ro_RO', 'Russian' : 'ru_RU', 'Sinhala' : 'si_LK', \n",
    "            'Turkish' : 'tr_TR', 'Vietnamese' : 'vi_VN', \n",
    "            'Chinese' : 'zh_CN', 'Afrikaans' : 'af_ZA', \n",
    "            'Azerbaijani' : 'az_AZ', 'Bengali' : 'bn_IN', \n",
    "            'Persian' : 'fa_IR', 'Hebrew' : 'he_IL', 'Croatian' : 'hr_HR', 'Indonesian' : 'id_ID', \n",
    "            'Georgian' : 'ka_GE', 'Khmer' : 'km_KH', 'Macedonian' : 'mk_MK', 'Malayalam' : 'ml_IN', \n",
    "            'Mongolian' : 'mn_MN', 'Marathi' : 'mr_IN', 'Polish' : 'pl_PL', \n",
    "            'Pashto' : 'ps_AF', 'Portuguese' : 'pt_XX', 'Swedish' : 'sv_SE', 'Swahili' : 'sw_KE', \n",
    "            'Tamil' : 'ta_IN', 'Telugu' : 'te_IN', 'Thai' : 'th_TH', 'Tagalog' : 'tl_XX', 'Ukrainian' : 'uk_UA', \n",
    "            'Urdu' : 'ur_PK', 'Xhosa' : 'xh_ZA', 'Galician' : 'gl_ES', 'Slovene' : 'sl_SI'}"
   ]
  },
  {
   "cell_type": "markdown",
   "id": "3e9b6516-7bfd-4bdc-87c6-118c9b8ca3b0",
   "metadata": {},
   "source": [
    "## test"
   ]
  },
  {
   "cell_type": "markdown",
   "id": "0c38a501-e257-45ac-accf-3389a075d783",
   "metadata": {},
   "source": [
    "### 기사별 가짜 위험도 생성"
   ]
  },
  {
   "cell_type": "code",
   "execution_count": 106,
   "id": "87721d01-d48d-45ab-a4a9-14a50af4c1fe",
   "metadata": {
    "tags": []
   },
   "outputs": [],
   "source": [
    "import numpy as np"
   ]
  },
  {
   "cell_type": "code",
   "execution_count": 111,
   "id": "4cfbff59-0930-4263-a3db-32b0da407ead",
   "metadata": {
    "tags": []
   },
   "outputs": [],
   "source": [
    "sampl = np.random.uniform(low=0.5, high=13.3, size=100)"
   ]
  },
  {
   "cell_type": "code",
   "execution_count": 116,
   "id": "c5ed7284-be15-4901-a411-feb919f147fd",
   "metadata": {},
   "outputs": [],
   "source": [
    "df[\"위험도\"] = sampl"
   ]
  },
  {
   "cell_type": "code",
   "execution_count": 121,
   "id": "e8deeb60-ddb3-4adc-bdac-612c8c245961",
   "metadata": {
    "tags": []
   },
   "outputs": [],
   "source": [
    "df = df.sort_values(\"일자\")"
   ]
  },
  {
   "cell_type": "markdown",
   "id": "971697a2-3c90-45ee-bcb6-e227890705d2",
   "metadata": {},
   "source": [
    "### 기사별 가짜 지역 생성"
   ]
  },
  {
   "cell_type": "code",
   "execution_count": 126,
   "id": "7add8995-75a8-4df2-bd59-5f12eb26a708",
   "metadata": {
    "tags": []
   },
   "outputs": [
    {
     "data": {
      "text/plain": [
       "['서울특별시',\n",
       " '부산광역시',\n",
       " '대구광역시',\n",
       " '인천광역시',\n",
       " '광주광역시',\n",
       " '대전광역시',\n",
       " '울산광역시',\n",
       " '세종특별자치시',\n",
       " '경기도',\n",
       " '강원도',\n",
       " '충청북도',\n",
       " '충청남도',\n",
       " '전라북도',\n",
       " '전라남도',\n",
       " '경상북도',\n",
       " '경상남도',\n",
       " '제주특별자치도']"
      ]
     },
     "execution_count": 126,
     "metadata": {},
     "output_type": "execute_result"
    }
   ],
   "source": [
    "sido = pd.read_excel(\"시도단위 코드.xlsx\")[\"시도\"].tolist()\n",
    "sido"
   ]
  },
  {
   "cell_type": "code",
   "execution_count": 131,
   "id": "44d8d128-fc76-4594-a5bc-b35a31cab0d2",
   "metadata": {
    "tags": []
   },
   "outputs": [],
   "source": [
    "import random\n",
    "city = [random.choice(sido) for _ in range(100)]\n",
    "df[\"city\"] = city"
   ]
  },
  {
   "cell_type": "code",
   "execution_count": 132,
   "id": "c41bc265-ea83-4d11-8377-a6f855d86adf",
   "metadata": {
    "tags": []
   },
   "outputs": [
    {
     "data": {
      "text/plain": [
       "city\n",
       "강원도        10\n",
       "대전광역시      10\n",
       "광주광역시      10\n",
       "경기도         9\n",
       "제주특별자치도     8\n",
       "경상남도        8\n",
       "세종특별자치시     7\n",
       "경상북도        6\n",
       "인천광역시       6\n",
       "충청남도        6\n",
       "서울특별시       6\n",
       "대구광역시       3\n",
       "충청북도        3\n",
       "울산광역시       2\n",
       "부산광역시       2\n",
       "전라북도        2\n",
       "전라남도        2\n",
       "Name: count, dtype: int64"
      ]
     },
     "execution_count": 132,
     "metadata": {},
     "output_type": "execute_result"
    }
   ],
   "source": [
    "df.city.value_counts()"
   ]
  },
  {
   "cell_type": "markdown",
   "id": "ce64dc5d-707c-41a1-a300-3734b84fae7b",
   "metadata": {},
   "source": [
    "### 사용자가 다음과 같이 조건을 걸었다고 가정"
   ]
  },
  {
   "cell_type": "code",
   "execution_count": 133,
   "id": "8d24c9b6-0798-4038-90f3-9463a3d6dd02",
   "metadata": {
    "tags": []
   },
   "outputs": [
    {
     "data": {
      "text/plain": [
       "49   2023-08-29\n",
       "60   2023-08-29\n",
       "54   2023-08-29\n",
       "44   2023-08-29\n",
       "9    2023-08-30\n",
       "        ...    \n",
       "19   2023-11-03\n",
       "77   2023-11-03\n",
       "68   2023-11-03\n",
       "2    2023-11-04\n",
       "45   2023-11-06\n",
       "Name: 일자, Length: 100, dtype: datetime64[ns]"
      ]
     },
     "execution_count": 133,
     "metadata": {},
     "output_type": "execute_result"
    }
   ],
   "source": [
    "df[\"일자\"]"
   ]
  },
  {
   "cell_type": "markdown",
   "id": "263a4429-9101-4341-88c9-3e6b9e8c599c",
   "metadata": {},
   "source": [
    "`-` 강원도, 토픽1, 날짜 : `2023-08-29 ~ 2023-09-29`"
   ]
  },
  {
   "cell_type": "code",
   "execution_count": 212,
   "id": "c1654bd7-d47e-40db-bfa0-121698864c9e",
   "metadata": {
    "tags": []
   },
   "outputs": [],
   "source": [
    "input_city = \"강원도\"\n",
    "input_topic = 1\n",
    "input_date_start = \"2023-10-14\"\n",
    "input_date_end = \"2023-11-01\"\n",
    "select_language = \"English\""
   ]
  },
  {
   "cell_type": "code",
   "execution_count": 213,
   "id": "a79e75b5-9a19-4ba3-9c09-2f6bf4e04602",
   "metadata": {
    "tags": []
   },
   "outputs": [],
   "source": [
    "return_df = df.loc[df[\"city\"] == input_city]\n",
    "return_df = return_df[return_df[\"topic\"] == input_topic]\n",
    "return_df = return_df.loc[return_df.일자.between(input_date_start, input_date_end)]\n",
    "return_df.reset_index(drop = True, inplace = True)"
   ]
  },
  {
   "cell_type": "markdown",
   "id": "2f53481d-f302-4537-871f-037b10bfacf8",
   "metadata": {},
   "source": [
    "### 번역 테스트"
   ]
  },
  {
   "cell_type": "code",
   "execution_count": 155,
   "id": "2ccbb778-6e88-4e84-a58d-e9b88897f552",
   "metadata": {
    "tags": []
   },
   "outputs": [],
   "source": [
    "article_kr = return_df[\"본문\"][0]\n",
    "title_kr = return_df[\"제목\"][0]\n",
    "topic_kr = return_df[\"topic\"][0]\n",
    "date = return_df[\"일자\"][0]\n",
    "language = lang_dict[select_language]"
   ]
  },
  {
   "cell_type": "code",
   "execution_count": 169,
   "id": "18f5747f-7fb8-419b-bd8a-b01e9805233e",
   "metadata": {
    "tags": []
   },
   "outputs": [],
   "source": [
    "tokenizer.src_lang = \"ko_KR\" ## 디폴트 한국어 고정\n",
    "\n",
    "encoded_article_kr = tokenizer(article_kr, return_tensors=\"pt\")\n",
    "encoded_title_kr = tokenizer(title_kr, return_tensors=\"pt\")\n",
    "#encoded_topic_kr = tokenizer(article_kr, return_tensors=\"pt\")\n",
    "\n",
    "generated_article = model.generate(\n",
    "                        **encoded_article_kr,\n",
    "                        forced_bos_token_id = tokenizer.lang_code_to_id[language])\n",
    "\n",
    "generated_title = model.generate(\n",
    "                        **encoded_title_kr,\n",
    "                        forced_bos_token_id = tokenizer.lang_code_to_id[language])\n",
    "#generated_topic = model.generate(\n",
    " #                       **encoded_topic_kr,\n",
    "  #                      forced_bos_token_id = tokenizer.lang_code_to_id[language])"
   ]
  },
  {
   "cell_type": "code",
   "execution_count": 202,
   "id": "ffa6670b-b1c9-4117-b589-4600dcfe29a8",
   "metadata": {
    "tags": []
   },
   "outputs": [
    {
     "data": {
      "text/html": [
       "<div>\n",
       "<style scoped>\n",
       "    .dataframe tbody tr th:only-of-type {\n",
       "        vertical-align: middle;\n",
       "    }\n",
       "\n",
       "    .dataframe tbody tr th {\n",
       "        vertical-align: top;\n",
       "    }\n",
       "\n",
       "    .dataframe thead th {\n",
       "        text-align: right;\n",
       "    }\n",
       "</style>\n",
       "<table border=\"1\" class=\"dataframe\">\n",
       "  <thead>\n",
       "    <tr style=\"text-align: right;\">\n",
       "      <th></th>\n",
       "      <th>Unnamed: 0</th>\n",
       "      <th>뉴스 식별자</th>\n",
       "      <th>일자</th>\n",
       "      <th>제목</th>\n",
       "      <th>본문</th>\n",
       "      <th>URL</th>\n",
       "      <th>topic</th>\n",
       "      <th>keyword</th>\n",
       "      <th>summary_text</th>\n",
       "      <th>위험도</th>\n",
       "      <th>city</th>\n",
       "    </tr>\n",
       "  </thead>\n",
       "  <tbody>\n",
       "    <tr>\n",
       "      <th>49</th>\n",
       "      <td>19388</td>\n",
       "      <td>2.100311e+06</td>\n",
       "      <td>2023-08-29</td>\n",
       "      <td>尹 카눈 피해 심각 지자체 3곳 특별재난지역 추가 선포</td>\n",
       "      <td>윤석열 대통령이 제6호 태풍 카눈으로 인해 대규모 피해가 발생한 강원 고성군 경북 ...</td>\n",
       "      <td>http://www.sedaily.com/NewsView/29TLG4GC12</td>\n",
       "      <td>3</td>\n",
       "      <td>[홍수위로부터, 홍수, 환경분쟁조정을, 피해가, 계획, 지역까지, 지원, 지역, 지...</td>\n",
       "      <td>제6호 태풍 카눈으로 인해 대규모 피해가 발생한 강원 고성군 경북 경주시 산내면 경...</td>\n",
       "      <td>12.492217</td>\n",
       "      <td>경상북도</td>\n",
       "    </tr>\n",
       "    <tr>\n",
       "      <th>60</th>\n",
       "      <td>19480</td>\n",
       "      <td>2.100501e+06</td>\n",
       "      <td>2023-08-29</td>\n",
       "      <td>'살인 예고글' 전국서 479건 23명 구속</td>\n",
       "      <td>신림동 흉기난동 이후 229건 검거 \\n \\n 대구국제공항에 대한 '폭탄테러'와 공...</td>\n",
       "      <td>http://www.fnnews.com/news/202308290954412819</td>\n",
       "      <td>3</td>\n",
       "      <td>[홍수위로부터, 홍수, 환경분쟁조정을, 피해가, 계획, 지역까지, 지원, 지역, 지...</td>\n",
       "      <td>대구국제공항에 대한 '폭탄테러'와 공항 이용객 불특정 다수를 상대로 '흉기난동'이 ...</td>\n",
       "      <td>1.554176</td>\n",
       "      <td>전라북도</td>\n",
       "    </tr>\n",
       "    <tr>\n",
       "      <th>54</th>\n",
       "      <td>19282</td>\n",
       "      <td>2.100851e+06</td>\n",
       "      <td>2023-08-29</td>\n",
       "      <td>10호 태풍 '담레이' 일본 삿포로 해상에서 소멸</td>\n",
       "      <td>제10호 태풍 '담레이' 경로. 담레이는 29일 오후 3시에 소멸했다. [자료=기상...</td>\n",
       "      <td>https://www.ajunews.com/view/20230829171154152</td>\n",
       "      <td>1</td>\n",
       "      <td>[홍수위로부터, 홍수, 환경분쟁조정을, 피해가, 계획, 지역까지, 지원, 지역, 지...</td>\n",
       "      <td>29일 낮 낮 일본 삿포로 인근 해상에서 소멸된 제10호 태풍 '담레이'가 29일 ...</td>\n",
       "      <td>12.258479</td>\n",
       "      <td>대전광역시</td>\n",
       "    </tr>\n",
       "    <tr>\n",
       "      <th>44</th>\n",
       "      <td>19317</td>\n",
       "      <td>7.100501e+06</td>\n",
       "      <td>2023-08-29</td>\n",
       "      <td>한난, '2023년 재난대응 안전한국훈련' 시행</td>\n",
       "      <td>한국지역난방공사는 29일 경기 파주시 지사에서 행정안전부가 주관하는 '2023년 제...</td>\n",
       "      <td>http://www.etnews.com/20230829000284</td>\n",
       "      <td>-1</td>\n",
       "      <td>[홍수위로부터, 홍수, 환경분쟁조정을, 피해가, 계획, 지역까지, 지원, 지역, 지...</td>\n",
       "      <td>한국지역난방공사는 29일 경기 파주시 지사에서 중앙부처와 지방자치단체, 공공기관, ...</td>\n",
       "      <td>8.469362</td>\n",
       "      <td>세종특별자치시</td>\n",
       "    </tr>\n",
       "    <tr>\n",
       "      <th>9</th>\n",
       "      <td>18922</td>\n",
       "      <td>1.100701e+06</td>\n",
       "      <td>2023-08-30</td>\n",
       "      <td>日 “간토대지진 조선인 학살 사실 파악 기록 없어”</td>\n",
       "      <td>일본 정부가 올해로 100주년을 맞은 간토대지진 당시 군대와 경찰, 민간인으로 이뤄...</td>\n",
       "      <td>http://www.segye.com/content/html/2023/08/30/2...</td>\n",
       "      <td>2</td>\n",
       "      <td>[홍수위로부터, 홍수, 환경분쟁조정을, 피해가, 계획, 지역까지, 지원, 지역, 지...</td>\n",
       "      <td>일본 정부가 올해로 100주년을 맞은 간토대지진 당시 군대와 경찰, 민간인으로 이뤄...</td>\n",
       "      <td>2.554163</td>\n",
       "      <td>대구광역시</td>\n",
       "    </tr>\n",
       "    <tr>\n",
       "      <th>...</th>\n",
       "      <td>...</td>\n",
       "      <td>...</td>\n",
       "      <td>...</td>\n",
       "      <td>...</td>\n",
       "      <td>...</td>\n",
       "      <td>...</td>\n",
       "      <td>...</td>\n",
       "      <td>...</td>\n",
       "      <td>...</td>\n",
       "      <td>...</td>\n",
       "      <td>...</td>\n",
       "    </tr>\n",
       "    <tr>\n",
       "      <th>19</th>\n",
       "      <td>786</td>\n",
       "      <td>2.100501e+06</td>\n",
       "      <td>2023-11-03</td>\n",
       "      <td>전세계 울린 “다섯 아이 구해 나온 '가자지구 아버지'...가짜였다 '충격'</td>\n",
       "      <td>지난달 28일 프랑스 주재 중국 대사관이 공유한 사진. 인공지능(AI)을 동원한 가...</td>\n",
       "      <td>http://www.fnnews.com/news/202311030642049849</td>\n",
       "      <td>1</td>\n",
       "      <td>[홍수위로부터, 홍수, 환경분쟁조정을, 피해가, 계획, 지역까지, 지원, 지역, 지...</td>\n",
       "      <td>인공지능(AII)을 동원한 가짜 사진으로 판명났지만, 2일 현재 내리지 않고 있으며...</td>\n",
       "      <td>2.066899</td>\n",
       "      <td>충청남도</td>\n",
       "    </tr>\n",
       "    <tr>\n",
       "      <th>77</th>\n",
       "      <td>845</td>\n",
       "      <td>1.400701e+06</td>\n",
       "      <td>2023-11-03</td>\n",
       "      <td>[국비 확보전 본격화] 세종의사당 대통령 제2집무실 추진 행정수도 인프라 조성 '핵심'</td>\n",
       "      <td>[충청투데이 강대묵 기자] 세종시의 내년도 정부예산안의 핵심 포인트는 ‘행정수도 인...</td>\n",
       "      <td>https://www.cctoday.co.kr/news/articleView.htm...</td>\n",
       "      <td>3</td>\n",
       "      <td>[홍수위로부터, 홍수, 환경분쟁조정을, 피해가, 계획, 지역까지, 지원, 지역, 지...</td>\n",
       "      <td>세종시의 내년도 정부예산안의 핵심 포인트는 ‘행정수도 인프라 조성’이며 국회 세종의...</td>\n",
       "      <td>6.152156</td>\n",
       "      <td>제주특별자치도</td>\n",
       "    </tr>\n",
       "    <tr>\n",
       "      <th>68</th>\n",
       "      <td>573</td>\n",
       "      <td>8.100401e+06</td>\n",
       "      <td>2023-11-03</td>\n",
       "      <td>\"휴전은 없다!\" 가자시티 포위...대량살상에 확전우려까지</td>\n",
       "      <td>[앵커]\\n이스라엘이 가자시티를 포위하면서 하마스와의 전쟁이 본격적인 시가전 국면에...</td>\n",
       "      <td>https://www.ytn.co.kr/_ln/0104_202311032220204506</td>\n",
       "      <td>1</td>\n",
       "      <td>[홍수위로부터, 홍수, 환경분쟁조정을, 피해가, 계획, 지역까지, 지원, 지역, 지...</td>\n",
       "      <td>이스라엘이 가자시티를 포위하면서 하마스와의 전쟁이 본격적인 시가전 국면에 돌입하였으...</td>\n",
       "      <td>12.807173</td>\n",
       "      <td>강원도</td>\n",
       "    </tr>\n",
       "    <tr>\n",
       "      <th>2</th>\n",
       "      <td>486</td>\n",
       "      <td>1.100101e+06</td>\n",
       "      <td>2023-11-04</td>\n",
       "      <td>하마스 “이스라엘의 학교 겨냥 공격으로 20명 사망”</td>\n",
       "      <td>팔레스타인 가자지구의 학교를 겨냥한 이스라엘군의 공습으로 20명이 사망했다고 팔레스...</td>\n",
       "      <td>https://www.khan.co.kr/world/world-general/art...</td>\n",
       "      <td>1</td>\n",
       "      <td>[홍수위로부터, 홍수, 환경분쟁조정을, 피해가, 계획, 지역까지, 지원, 지역, 지...</td>\n",
       "      <td>팔레스타인 가자지구의 학교를 겨냥한 이스라엘군의 공습으로 20명이 사망했다고 팔레스...</td>\n",
       "      <td>9.579531</td>\n",
       "      <td>강원도</td>\n",
       "    </tr>\n",
       "    <tr>\n",
       "      <th>45</th>\n",
       "      <td>95</td>\n",
       "      <td>1.100501e+06</td>\n",
       "      <td>2023-11-06</td>\n",
       "      <td>가자지구 사망자 1만명 육박 70%가 어린이 여성 희생자</td>\n",
       "      <td>이 포위로 식량 물 의료 부족\\n\\n튀르키예 “야전병원 선박 입항”\\n\\n\\n\\n ...</td>\n",
       "      <td>http://www.munhwa.com/news/view.html?no=202311...</td>\n",
       "      <td>1</td>\n",
       "      <td>[홍수위로부터, 홍수, 환경분쟁조정을, 피해가, 계획, 지역까지, 지원, 지역, 지...</td>\n",
       "      <td>이스라엘과 팔레스타인 무장정파 하마스의 전쟁이 한 달째 이어지면서 가자지구 사망자가...</td>\n",
       "      <td>1.968676</td>\n",
       "      <td>경기도</td>\n",
       "    </tr>\n",
       "  </tbody>\n",
       "</table>\n",
       "<p>100 rows × 11 columns</p>\n",
       "</div>"
      ],
      "text/plain": [
       "    Unnamed: 0        뉴스 식별자         일자  \\\n",
       "49       19388  2.100311e+06 2023-08-29   \n",
       "60       19480  2.100501e+06 2023-08-29   \n",
       "54       19282  2.100851e+06 2023-08-29   \n",
       "44       19317  7.100501e+06 2023-08-29   \n",
       "9        18922  1.100701e+06 2023-08-30   \n",
       "..         ...           ...        ...   \n",
       "19         786  2.100501e+06 2023-11-03   \n",
       "77         845  1.400701e+06 2023-11-03   \n",
       "68         573  8.100401e+06 2023-11-03   \n",
       "2          486  1.100101e+06 2023-11-04   \n",
       "45          95  1.100501e+06 2023-11-06   \n",
       "\n",
       "                                                  제목  \\\n",
       "49                    尹 카눈 피해 심각 지자체 3곳 특별재난지역 추가 선포   \n",
       "60                          '살인 예고글' 전국서 479건 23명 구속   \n",
       "54                       10호 태풍 '담레이' 일본 삿포로 해상에서 소멸   \n",
       "44                        한난, '2023년 재난대응 안전한국훈련' 시행   \n",
       "9                       日 “간토대지진 조선인 학살 사실 파악 기록 없어”   \n",
       "..                                               ...   \n",
       "19        전세계 울린 “다섯 아이 구해 나온 '가자지구 아버지'...가짜였다 '충격'   \n",
       "77  [국비 확보전 본격화] 세종의사당 대통령 제2집무실 추진 행정수도 인프라 조성 '핵심'   \n",
       "68                  \"휴전은 없다!\" 가자시티 포위...대량살상에 확전우려까지   \n",
       "2                      하마스 “이스라엘의 학교 겨냥 공격으로 20명 사망”   \n",
       "45                   가자지구 사망자 1만명 육박 70%가 어린이 여성 희생자   \n",
       "\n",
       "                                                   본문  \\\n",
       "49  윤석열 대통령이 제6호 태풍 카눈으로 인해 대규모 피해가 발생한 강원 고성군 경북 ...   \n",
       "60  신림동 흉기난동 이후 229건 검거 \\n \\n 대구국제공항에 대한 '폭탄테러'와 공...   \n",
       "54  제10호 태풍 '담레이' 경로. 담레이는 29일 오후 3시에 소멸했다. [자료=기상...   \n",
       "44  한국지역난방공사는 29일 경기 파주시 지사에서 행정안전부가 주관하는 '2023년 제...   \n",
       "9   일본 정부가 올해로 100주년을 맞은 간토대지진 당시 군대와 경찰, 민간인으로 이뤄...   \n",
       "..                                                ...   \n",
       "19  지난달 28일 프랑스 주재 중국 대사관이 공유한 사진. 인공지능(AI)을 동원한 가...   \n",
       "77  [충청투데이 강대묵 기자] 세종시의 내년도 정부예산안의 핵심 포인트는 ‘행정수도 인...   \n",
       "68  [앵커]\\n이스라엘이 가자시티를 포위하면서 하마스와의 전쟁이 본격적인 시가전 국면에...   \n",
       "2   팔레스타인 가자지구의 학교를 겨냥한 이스라엘군의 공습으로 20명이 사망했다고 팔레스...   \n",
       "45  이 포위로 식량 물 의료 부족\\n\\n튀르키예 “야전병원 선박 입항”\\n\\n\\n\\n ...   \n",
       "\n",
       "                                                  URL  topic  \\\n",
       "49         http://www.sedaily.com/NewsView/29TLG4GC12      3   \n",
       "60      http://www.fnnews.com/news/202308290954412819      3   \n",
       "54     https://www.ajunews.com/view/20230829171154152      1   \n",
       "44               http://www.etnews.com/20230829000284     -1   \n",
       "9   http://www.segye.com/content/html/2023/08/30/2...      2   \n",
       "..                                                ...    ...   \n",
       "19      http://www.fnnews.com/news/202311030642049849      1   \n",
       "77  https://www.cctoday.co.kr/news/articleView.htm...      3   \n",
       "68  https://www.ytn.co.kr/_ln/0104_202311032220204506      1   \n",
       "2   https://www.khan.co.kr/world/world-general/art...      1   \n",
       "45  http://www.munhwa.com/news/view.html?no=202311...      1   \n",
       "\n",
       "                                              keyword  \\\n",
       "49  [홍수위로부터, 홍수, 환경분쟁조정을, 피해가, 계획, 지역까지, 지원, 지역, 지...   \n",
       "60  [홍수위로부터, 홍수, 환경분쟁조정을, 피해가, 계획, 지역까지, 지원, 지역, 지...   \n",
       "54  [홍수위로부터, 홍수, 환경분쟁조정을, 피해가, 계획, 지역까지, 지원, 지역, 지...   \n",
       "44  [홍수위로부터, 홍수, 환경분쟁조정을, 피해가, 계획, 지역까지, 지원, 지역, 지...   \n",
       "9   [홍수위로부터, 홍수, 환경분쟁조정을, 피해가, 계획, 지역까지, 지원, 지역, 지...   \n",
       "..                                                ...   \n",
       "19  [홍수위로부터, 홍수, 환경분쟁조정을, 피해가, 계획, 지역까지, 지원, 지역, 지...   \n",
       "77  [홍수위로부터, 홍수, 환경분쟁조정을, 피해가, 계획, 지역까지, 지원, 지역, 지...   \n",
       "68  [홍수위로부터, 홍수, 환경분쟁조정을, 피해가, 계획, 지역까지, 지원, 지역, 지...   \n",
       "2   [홍수위로부터, 홍수, 환경분쟁조정을, 피해가, 계획, 지역까지, 지원, 지역, 지...   \n",
       "45  [홍수위로부터, 홍수, 환경분쟁조정을, 피해가, 계획, 지역까지, 지원, 지역, 지...   \n",
       "\n",
       "                                         summary_text        위험도     city  \n",
       "49  제6호 태풍 카눈으로 인해 대규모 피해가 발생한 강원 고성군 경북 경주시 산내면 경...  12.492217     경상북도  \n",
       "60  대구국제공항에 대한 '폭탄테러'와 공항 이용객 불특정 다수를 상대로 '흉기난동'이 ...   1.554176     전라북도  \n",
       "54  29일 낮 낮 일본 삿포로 인근 해상에서 소멸된 제10호 태풍 '담레이'가 29일 ...  12.258479    대전광역시  \n",
       "44  한국지역난방공사는 29일 경기 파주시 지사에서 중앙부처와 지방자치단체, 공공기관, ...   8.469362  세종특별자치시  \n",
       "9   일본 정부가 올해로 100주년을 맞은 간토대지진 당시 군대와 경찰, 민간인으로 이뤄...   2.554163    대구광역시  \n",
       "..                                                ...        ...      ...  \n",
       "19  인공지능(AII)을 동원한 가짜 사진으로 판명났지만, 2일 현재 내리지 않고 있으며...   2.066899     충청남도  \n",
       "77  세종시의 내년도 정부예산안의 핵심 포인트는 ‘행정수도 인프라 조성’이며 국회 세종의...   6.152156  제주특별자치도  \n",
       "68  이스라엘이 가자시티를 포위하면서 하마스와의 전쟁이 본격적인 시가전 국면에 돌입하였으...  12.807173      강원도  \n",
       "2   팔레스타인 가자지구의 학교를 겨냥한 이스라엘군의 공습으로 20명이 사망했다고 팔레스...   9.579531      강원도  \n",
       "45  이스라엘과 팔레스타인 무장정파 하마스의 전쟁이 한 달째 이어지면서 가자지구 사망자가...   1.968676      경기도  \n",
       "\n",
       "[100 rows x 11 columns]"
      ]
     },
     "execution_count": 202,
     "metadata": {},
     "output_type": "execute_result"
    }
   ],
   "source": [
    "df"
   ]
  },
  {
   "cell_type": "code",
   "execution_count": 170,
   "id": "19cb3211-1f5c-4910-8a69-cd83f71ac0e6",
   "metadata": {
    "tags": []
   },
   "outputs": [],
   "source": [
    "trans_article = tokenizer.batch_decode(generated_article, skip_special_tokens=True)\n",
    "trans_title = tokenizer.batch_decode(generated_title, skip_special_tokens=True)\n",
    "#trans_topic = tokenizer.batch_decode(generated_topic, skip_special_tokens=True)"
   ]
  },
  {
   "cell_type": "code",
   "execution_count": 173,
   "id": "f3049d44-7436-428f-ac0b-942f890a7963",
   "metadata": {
    "tags": []
   },
   "outputs": [
    {
     "data": {
      "text/plain": [
       "[\"[Manya Today, PADO Editor-in-Chief] [Editor-in-Chief] The Palestinian armed group Hamas has launched a massive attack on Israel, launching thousands of rockets, and then the ground forces have invaded Israeli territory and brutally murdered and abducted civilians, perhaps killing civilians, and exposing the scenes of these murders has provoked Israel's retaliatory response to the war that was waged between Israel and the Arabs.\"]"
      ]
     },
     "execution_count": 173,
     "metadata": {},
     "output_type": "execute_result"
    }
   ],
   "source": [
    "trans_article"
   ]
  },
  {
   "cell_type": "markdown",
   "id": "48e03a7b-e292-4623-90db-f65f9af88857",
   "metadata": {
    "tags": []
   },
   "source": [
    "## 위 과정을 함수로 작성"
   ]
  },
  {
   "cell_type": "code",
   "execution_count": 277,
   "id": "d90f1ac9-9bdc-42d7-80db-f0dc05bfda89",
   "metadata": {
    "tags": []
   },
   "outputs": [],
   "source": [
    "def translate(df, city, topic, start_date, end_date, output_language) :\n",
    "    return_df = df.loc[df[\"city\"] == input_city]\n",
    "    return_df = return_df[return_df[\"topic\"] == input_topic]\n",
    "    return_df = return_df.loc[return_df.일자.between(input_date_start, input_date_end)]\n",
    "    return_df.reset_index(drop = True, inplace = True)\n",
    "    if len(return_df) == 0 : print(\"No Result\")\n",
    "    \n",
    "    else : \n",
    "        trans_date = []\n",
    "        trans_topic = []\n",
    "        trans_title = []\n",
    "        trans_keyword = []\n",
    "        trans_article = []\n",
    "        trans_summary = []\n",
    "        for i in range(len(return_df)) :\n",
    "            summary_kr = return_df[\"summary_text\"][i]\n",
    "            article_kr = return_df[\"본문\"][i]\n",
    "            title_kr = return_df[\"제목\"][i]\n",
    "            keyword_kr = return_df[\"keyword\"][i]\n",
    "            topic_kr = return_df[\"topic\"][i]\n",
    "            date = return_df[\"일자\"][i]\n",
    "            \n",
    "            \n",
    "            language = lang_dict[output_language] ## output 언어 설정\n",
    "            tokenizer.src_lang = \"ko_KR\" ## input 한국어로 고정\n",
    "            \n",
    "            encoded_summary_kr = tokenizer(summary_kr, return_tensors = \"pt\")\n",
    "            encoded_article_kr = tokenizer(article_kr, return_tensors= \"pt\")\n",
    "            encoded_title_kr = tokenizer(title_kr, return_tensors= \"pt\")\n",
    "            encoded_keyword_kr = tokenizer(keyword_kr, return_tensors= \"pt\")\n",
    "            #encoded_topic_kr = tokenizer(topic_kr, return_tensors=\"pt\")\n",
    "            \n",
    "            generated_article = model.generate(\n",
    "                            **encoded_article_kr,\n",
    "                            forced_bos_token_id = tokenizer.lang_code_to_id[language])\n",
    "\n",
    "            generated_title = model.generate(\n",
    "                            **encoded_title_kr,\n",
    "                            forced_bos_token_id = tokenizer.lang_code_to_id[language])\n",
    "            \n",
    "            generated_keyword = model.generate(\n",
    "                            **encoded_keyword_kr,\n",
    "                            forced_bos_token_id = tokenizer.lang_code_to_id[language])\n",
    "            \n",
    "            generated_summary = model.generate(\n",
    "                            **encoded_summary_kr,\n",
    "                            forced_bos_token_id = tokenizer.lang_code_to_id[language])\n",
    "            \n",
    "            #generated_topic = model.generate(\n",
    "     #                       **encoded_topic_kr,\n",
    "      #                      forced_bos_token_id = tokenizer.lang_code_to_id[language])\n",
    "            \n",
    "            trans_date.append(date)\n",
    "            trans_article.append(tokenizer.batch_decode(generated_article, skip_special_tokens=True))\n",
    "            trans_title.append(tokenizer.batch_decode(generated_title, skip_special_tokens=True))\n",
    "            trans_keyword.append(tokenizer.batch_decode(generated_keyword, skip_special_tokens=True))\n",
    "            trans_summary.append(tokenizer.batch_decode(generated_summary, skip_special_tokens=True))\n",
    "            \n",
    "            #trans_topic.append(tokenizer.batch_decode(generated_topic, skip_special_tokens=True))\n",
    "        trans_df = pd.DataFrame({\"date\" : trans_date,\n",
    "                                 \"title\" : trans_title,\n",
    "                                 \"topic\" : topic_kr,\n",
    "                                 \"keyword\" : trans_keyword, \n",
    "                                 \"article\" : trans_article,\n",
    "                                 \"summary_text\" : trans_summary})\n",
    "        return trans_df"
   ]
  },
  {
   "cell_type": "code",
   "execution_count": 273,
   "id": "396de60c-ff91-444c-b738-60197384ec5a",
   "metadata": {
    "tags": []
   },
   "outputs": [],
   "source": [
    "city = \"강원도\"\n",
    "topic = 1\n",
    "start_date = \"2023-10-14\"\n",
    "end_date = \"2023-11-01\"\n",
    "output_language = \"English\""
   ]
  },
  {
   "cell_type": "code",
   "execution_count": 278,
   "id": "104e2904-2a7f-4e2a-9aed-9921ddf991ef",
   "metadata": {
    "tags": []
   },
   "outputs": [],
   "source": [
    "result = translate(df, city, topic, start_date, end_date, output_language)"
   ]
  },
  {
   "cell_type": "code",
   "execution_count": 279,
   "id": "6b4c0536-4e0b-4122-897c-5286f739f1ca",
   "metadata": {
    "tags": []
   },
   "outputs": [
    {
     "data": {
      "text/html": [
       "<div>\n",
       "<style scoped>\n",
       "    .dataframe tbody tr th:only-of-type {\n",
       "        vertical-align: middle;\n",
       "    }\n",
       "\n",
       "    .dataframe tbody tr th {\n",
       "        vertical-align: top;\n",
       "    }\n",
       "\n",
       "    .dataframe thead th {\n",
       "        text-align: right;\n",
       "    }\n",
       "</style>\n",
       "<table border=\"1\" class=\"dataframe\">\n",
       "  <thead>\n",
       "    <tr style=\"text-align: right;\">\n",
       "      <th></th>\n",
       "      <th>date</th>\n",
       "      <th>title</th>\n",
       "      <th>topic</th>\n",
       "      <th>keyword</th>\n",
       "      <th>article</th>\n",
       "      <th>summary_text</th>\n",
       "    </tr>\n",
       "  </thead>\n",
       "  <tbody>\n",
       "    <tr>\n",
       "      <th>0</th>\n",
       "      <td>2023-10-14</td>\n",
       "      <td>[A former U.S. ambassador to Israel analyzing ...</td>\n",
       "      <td>1</td>\n",
       "      <td>[Symptoms are parasitic, nectar nectar nectar,...</td>\n",
       "      <td>[[Manya Today, PADO Editor-in-Chief] [Editor-i...</td>\n",
       "      <td>[The Palestinian armed group Hamas had launche...</td>\n",
       "    </tr>\n",
       "    <tr>\n",
       "      <th>1</th>\n",
       "      <td>2023-10-16</td>\n",
       "      <td>[Iranian Revolutionary Guards Move Closer to I...</td>\n",
       "      <td>1</td>\n",
       "      <td>[The Israeli-Palestinian conflict in Gaza has ...</td>\n",
       "      <td>[In the wake of reports that Syrian troops fro...</td>\n",
       "      <td>[With the possibility of an Israeli-Hamas war ...</td>\n",
       "    </tr>\n",
       "    <tr>\n",
       "      <th>2</th>\n",
       "      <td>2023-10-26</td>\n",
       "      <td>[\"You must remove the enemy's heart and liver,...</td>\n",
       "      <td>1</td>\n",
       "      <td>[Buildings, urban buildings, African villages,...</td>\n",
       "      <td>[In the midst of the Palestinian armed Hamas a...</td>\n",
       "      <td>[In the midst of the Palestinian armed Hamas a...</td>\n",
       "    </tr>\n",
       "  </tbody>\n",
       "</table>\n",
       "</div>"
      ],
      "text/plain": [
       "        date                                              title  topic  \\\n",
       "0 2023-10-14  [A former U.S. ambassador to Israel analyzing ...      1   \n",
       "1 2023-10-16  [Iranian Revolutionary Guards Move Closer to I...      1   \n",
       "2 2023-10-26  [\"You must remove the enemy's heart and liver,...      1   \n",
       "\n",
       "                                             keyword  \\\n",
       "0  [Symptoms are parasitic, nectar nectar nectar,...   \n",
       "1  [The Israeli-Palestinian conflict in Gaza has ...   \n",
       "2  [Buildings, urban buildings, African villages,...   \n",
       "\n",
       "                                             article  \\\n",
       "0  [[Manya Today, PADO Editor-in-Chief] [Editor-i...   \n",
       "1  [In the wake of reports that Syrian troops fro...   \n",
       "2  [In the midst of the Palestinian armed Hamas a...   \n",
       "\n",
       "                                        summary_text  \n",
       "0  [The Palestinian armed group Hamas had launche...  \n",
       "1  [With the possibility of an Israeli-Hamas war ...  \n",
       "2  [In the midst of the Palestinian armed Hamas a...  "
      ]
     },
     "execution_count": 279,
     "metadata": {},
     "output_type": "execute_result"
    }
   ],
   "source": [
    "result"
   ]
  },
  {
   "cell_type": "markdown",
   "id": "a2f48152-0a78-41c0-a9aa-1a1cf9ad59c7",
   "metadata": {},
   "source": [
    "`-` 아 마지막 이렇게 결과 반환하는 거 너무 오래걸린다...."
   ]
  },
  {
   "cell_type": "code",
   "execution_count": 280,
   "id": "645e5eab-e658-4c1f-a370-9af69ad47176",
   "metadata": {
    "tags": []
   },
   "outputs": [
    {
     "name": "stdout",
     "output_type": "stream",
     "text": [
      "A former U.S. ambassador to Israel analyzing the Israeli-Hamas War [PADO].\n"
     ]
    }
   ],
   "source": [
    "print(result[\"title\"][0][0])"
   ]
  },
  {
   "cell_type": "code",
   "execution_count": 281,
   "id": "cb01aae8-c5ee-4daf-b8b3-e7b971a0979f",
   "metadata": {
    "tags": []
   },
   "outputs": [
    {
     "name": "stdout",
     "output_type": "stream",
     "text": [
      "Symptoms are parasitic, nectar nectar nectar, 487 weeks of bugs, 18 days in the trees, 21 days in August improvements, most of which are feces and methasoccus.\n"
     ]
    }
   ],
   "source": [
    "print(result[\"keyword\"][0][0])"
   ]
  },
  {
   "cell_type": "code",
   "execution_count": 282,
   "id": "3efe6ba3-a027-4fd2-8e25-f6b1d3d66aa7",
   "metadata": {
    "tags": []
   },
   "outputs": [
    {
     "name": "stdout",
     "output_type": "stream",
     "text": [
      "The Palestinian armed group Hamas had launched a massive attack on Israel, fired thousands of missiles, invaded Israeli territory, and brutally murdered and abducted civilians, and even killed and maimed civilians, exposing the scene of the killing, provoking an Israeli retaliatory campaign called the Israeli-Arab War, the Israeli-Arab War.\n"
     ]
    }
   ],
   "source": [
    "print(result[\"summary_text\"][0][0])"
   ]
  },
  {
   "cell_type": "code",
   "execution_count": 266,
   "id": "5ad64a3d-592e-4b17-96f1-737adccda689",
   "metadata": {
    "tags": []
   },
   "outputs": [
    {
     "name": "stdout",
     "output_type": "stream",
     "text": [
      "[Manya Today, PADO Editor-in-Chief] [Editor-in-Chief] The Palestinian armed group Hamas has launched a massive attack on Israel, launching thousands of rockets, and then the ground forces have invaded Israeli territory and brutally murdered and abducted civilians, perhaps killing civilians, and exposing the scenes of these murders has provoked Israel's retaliatory response to the war that was waged between Israel and the Arabs.\n"
     ]
    }
   ],
   "source": [
    "print(result[\"article\"][0][0])"
   ]
  }
 ],
 "metadata": {
  "accelerator": "GPU",
  "colab": {
   "gpuType": "T4",
   "provenance": [],
   "toc_visible": true
  },
  "kernelspec": {
   "display_name": "Python 3 (ipykernel)",
   "language": "python",
   "name": "python3"
  },
  "language_info": {
   "codemirror_mode": {
    "name": "ipython",
    "version": 3
   },
   "file_extension": ".py",
   "mimetype": "text/x-python",
   "name": "python",
   "nbconvert_exporter": "python",
   "pygments_lexer": "ipython3",
   "version": "3.11.4"
  }
 },
 "nbformat": 4,
 "nbformat_minor": 5
}
