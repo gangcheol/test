{
 "cells": [
  {
   "cell_type": "markdown",
   "id": "a9c7eb5b",
   "metadata": {},
   "source": [
    "# 1. 형태소 분석기"
   ]
  },
  {
   "cell_type": "markdown",
   "id": "0c041dd0",
   "metadata": {},
   "source": [
    "`1` mecab($\\star\\star$) : 강철"
   ]
  },
  {
   "cell_type": "markdown",
   "id": "23c8aa33",
   "metadata": {},
   "source": [
    "# 2. key값 선정"
   ]
  },
  {
   "cell_type": "markdown",
   "id": "7eda7b9d",
   "metadata": {},
   "source": [
    "`토픽 + 날짜 + 인덱싱`"
   ]
  },
  {
   "cell_type": "markdown",
   "id": "fbe0be4d",
   "metadata": {},
   "source": [
    "`1` 토픽모델링 수행 후 데이터 합치기(강철)"
   ]
  },
  {
   "cell_type": "markdown",
   "id": "5ca01d05",
   "metadata": {},
   "source": [
    "# 3. 목업 디자인 "
   ]
  },
  {
   "cell_type": "markdown",
   "id": "6a3e0889",
   "metadata": {},
   "source": [
    "`-` 현아 : 목업 디자인"
   ]
  },
  {
   "cell_type": "markdown",
   "id": "54f5e159",
   "metadata": {},
   "source": [
    "# 4. 키워드 산출"
   ]
  },
  {
   "cell_type": "markdown",
   "id": "e9bc2969",
   "metadata": {},
   "source": [
    "`-` 정화"
   ]
  },
  {
   "cell_type": "markdown",
   "id": "addc4bd8",
   "metadata": {},
   "source": [
    "#  5. 요약문 작성"
   ]
  },
  {
   "cell_type": "markdown",
   "id": "63793b6f",
   "metadata": {},
   "source": [
    "`-` 태훈"
   ]
  },
  {
   "cell_type": "markdown",
   "id": "a3163fb2",
   "metadata": {},
   "source": [
    "# 6. ppt는 다음주..."
   ]
  }
 ],
 "metadata": {
  "kernelspec": {
   "display_name": "Python 3 (ipykernel)",
   "language": "python",
   "name": "python3"
  },
  "language_info": {
   "codemirror_mode": {
    "name": "ipython",
    "version": 3
   },
   "file_extension": ".py",
   "mimetype": "text/x-python",
   "name": "python",
   "nbconvert_exporter": "python",
   "pygments_lexer": "ipython3",
   "version": "3.11.4"
  },
  "toc": {
   "base_numbering": 1,
   "nav_menu": {},
   "number_sections": false,
   "sideBar": true,
   "skip_h1_title": false,
   "title_cell": "Table of Contents",
   "title_sidebar": "Contents",
   "toc_cell": false,
   "toc_position": {
    "height": "calc(100% - 180px)",
    "left": "10px",
    "top": "150px",
    "width": "292.571px"
   },
   "toc_section_display": true,
   "toc_window_display": true
  }
 },
 "nbformat": 4,
 "nbformat_minor": 5
}
