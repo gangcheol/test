{
 "cells": [
  {
   "cell_type": "raw",
   "id": "76401cb1-bd2a-4bf6-a924-cc1fa0161a73",
   "metadata": {},
   "source": [
    "---\n",
    "title : \"00. meeting (1)\"\n",
    "author : \"gc\"\n",
    "date : \"11/06/23\"\n",
    "categories : [미팅]\n",
    "---"
   ]
  },
  {
   "cell_type": "markdown",
   "id": "76529f1d-01ac-4836-8806-25f8995ec081",
   "metadata": {},
   "source": [
    "# 23.11.06"
   ]
  },
  {
   "cell_type": "markdown",
   "id": "205ada3c-9a13-4f74-b3bf-91742196710d",
   "metadata": {},
   "source": [
    "## 1. 뉴스 카테고리 정하기"
   ]
  },
  {
   "cell_type": "markdown",
   "id": "494d2cee-bae7-4409-b05f-f7ed441731d2",
   "metadata": {},
   "source": [
    "### 사회 갈등"
   ]
  },
  {
   "cell_type": "markdown",
   "id": "bbd13b06-ddae-485f-8a22-75fd0e5100dc",
   "metadata": {},
   "source": [
    "`1` 재난"
   ]
  },
  {
   "cell_type": "markdown",
   "id": "ad27511b",
   "metadata": {},
   "source": [
    "`2` 사회갈등"
   ]
  },
  {
   "cell_type": "markdown",
   "id": "065450f0-4ce6-4178-bc74-0f35708d7910",
   "metadata": {},
   "source": [
    "`3` 일단 데이터는 확보했고"
   ]
  },
  {
   "cell_type": "markdown",
   "id": "e356f314-b74b-4a3b-96f5-7c85d241a3db",
   "metadata": {},
   "source": [
    "## 2. 공간적 범위 정하기"
   ]
  },
  {
   "cell_type": "markdown",
   "id": "1b208369-af02-40cd-b5eb-df37fb984f6a",
   "metadata": {},
   "source": [
    "`-` 일단 나라별로\n",
    "\n",
    "`-` 후에 시도, 시군구로 상세 분류"
   ]
  },
  {
   "cell_type": "markdown",
   "id": "86ced27a",
   "metadata": {},
   "source": [
    "## 3. 시간적 범위"
   ]
  },
  {
   "cell_type": "markdown",
   "id": "f755627a",
   "metadata": {},
   "source": [
    "`-` 2023. 10. 01 ~ 2023. 11. 01"
   ]
  },
  {
   "cell_type": "markdown",
   "id": "fea143fd-e0cc-4921-bf0b-ef44846e5d50",
   "metadata": {},
   "source": [
    "## 3. 뉴스 데이터 본문 크롤링 해오기$\\star\\star\\star$"
   ]
  },
  {
   "cell_type": "markdown",
   "id": "38583e1d-e39e-46aa-83bb-9505da415e30",
   "metadata": {},
   "source": [
    "`-` 뉴스 데이터는 크롤링"
   ]
  },
  {
   "cell_type": "markdown",
   "id": "7c305e80",
   "metadata": {},
   "source": [
    "`-` 크롤링 형식"
   ]
  },
  {
   "cell_type": "markdown",
   "id": "013f324f",
   "metadata": {},
   "source": [
    "|날짜|뉴스 제목|뉴스 본문|\n",
    "|:---;|:---:|:---:|\n",
    "|20231106|해커톤 준비|아 힘들어 |"
   ]
  },
  {
   "cell_type": "markdown",
   "id": "46ba10bf-a712-47c5-abfd-83286127baed",
   "metadata": {},
   "source": [
    "## 4. 깃허브 확인"
   ]
  },
  {
   "cell_type": "markdown",
   "id": "7d25618b-cc07-4045-a211-d4afa3c37736",
   "metadata": {},
   "source": [
    "`-` 깃허브 공유 저장소"
   ]
  },
  {
   "cell_type": "markdown",
   "id": "90e55d75-3d5e-4ed3-a95d-654caa24b8a0",
   "metadata": {},
   "source": [
    "`-` 파일 이름 통일 : `2023-11-06-전처리(강철)`"
   ]
  },
  {
   "cell_type": "markdown",
   "id": "7a8d32ee-a889-42dc-98b6-2feeb9ad11a6",
   "metadata": {},
   "source": [
    "## 5. 모델 로드 및 저장(강철)"
   ]
  },
  {
   "cell_type": "markdown",
   "id": "a70d7cb7-93d3-4964-953e-01cf6fa2b178",
   "metadata": {},
   "source": [
    "`1` koBART 요약 모델 (o)\n",
    "\n",
    "`2` KeyBERT 핵심어 추출 모델 (X)\n",
    "\n",
    "`3` mBart-50 번역 모델 (x)\n",
    "\n",
    "`4` Bertopic 모델 (o)"
   ]
  },
  {
   "cell_type": "markdown",
   "id": "fe4c4d43-7aaf-472a-a0d3-16c42e53b14a",
   "metadata": {},
   "source": [
    "## 6. 위험 단어 사전 구축 (정화)"
   ]
  },
  {
   "cell_type": "markdown",
   "id": "1caa9114",
   "metadata": {},
   "source": [
    "`1` 사전 연구 사례, (참고문헌 링크랑, 사이트랑 링크까지)"
   ]
  },
  {
   "cell_type": "markdown",
   "id": "5b8d8635",
   "metadata": {},
   "source": [
    "## 7. folium map(현아)"
   ]
  },
  {
   "cell_type": "markdown",
   "id": "4428cf62",
   "metadata": {},
   "source": [
    "`-` [참고링크](https://gangcheol.github.io/mysite/posts/Lecture/STDV/2023-05-16-12wk.html)"
   ]
  },
  {
   "cell_type": "markdown",
   "id": "47c1ad29",
   "metadata": {},
   "source": [
    "`-` [공식링크](https://python-visualization.github.io/folium/latest/user_guide/geojson/geojson_marker.html)"
   ]
  },
  {
   "cell_type": "markdown",
   "id": "1e4cea00",
   "metadata": {},
   "source": [
    "`-` 현아 : 위도경도 데이터 확인"
   ]
  }
 ],
 "metadata": {
  "kernelspec": {
   "display_name": "Python 3 (ipykernel)",
   "language": "python",
   "name": "python3"
  },
  "language_info": {
   "codemirror_mode": {
    "name": "ipython",
    "version": 3
   },
   "file_extension": ".py",
   "mimetype": "text/x-python",
   "name": "python",
   "nbconvert_exporter": "python",
   "pygments_lexer": "ipython3",
   "version": "3.11.4"
  },
  "toc": {
   "base_numbering": 1,
   "nav_menu": {},
   "number_sections": false,
   "sideBar": true,
   "skip_h1_title": false,
   "title_cell": "Table of Contents",
   "title_sidebar": "Contents",
   "toc_cell": false,
   "toc_position": {
    "height": "calc(100% - 180px)",
    "left": "10px",
    "top": "150px",
    "width": "341.333px"
   },
   "toc_section_display": true,
   "toc_window_display": true
  }
 },
 "nbformat": 4,
 "nbformat_minor": 5
}
