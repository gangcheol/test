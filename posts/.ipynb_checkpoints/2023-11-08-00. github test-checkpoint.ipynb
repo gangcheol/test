{
 "cells": [
  {
   "cell_type": "raw",
   "id": "1ef6f89c-d7e1-4f1c-9686-8f745aa56587",
   "metadata": {},
   "source": [
    "---\n",
    "title : \"00. github test\"\n",
    "author : \"gc\"\n",
    "date : \"11/06/23\"\n",
    "categories : [github]\n",
    "---"
   ]
  },
  {
   "cell_type": "markdown",
   "id": "7587defb-7f28-40d8-83cc-39c975966e69",
   "metadata": {},
   "source": [
    "# github test"
   ]
  },
  {
   "cell_type": "markdown",
   "id": "00196a70-c95e-4492-8cb8-ccb6b6746043",
   "metadata": {
    "tags": []
   },
   "source": [
    "ㅇ뭐애뭐리ㅏ무니ㅓㅜ"
   ]
  }
 ],
 "metadata": {
  "kernelspec": {
   "display_name": "Python 3 (ipykernel)",
   "language": "python",
   "name": "python3"
  },
  "language_info": {
   "codemirror_mode": {
    "name": "ipython",
    "version": 3
   },
   "file_extension": ".py",
   "mimetype": "text/x-python",
   "name": "python",
   "nbconvert_exporter": "python",
   "pygments_lexer": "ipython3",
   "version": "3.11.4"
  }
 },
 "nbformat": 4,
 "nbformat_minor": 5
}
